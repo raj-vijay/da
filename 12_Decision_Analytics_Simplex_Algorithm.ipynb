{
  "nbformat": 4,
  "nbformat_minor": 0,
  "metadata": {
    "colab": {
      "name": "12. Decision Analytics - Simplex Algorithm.ipynb",
      "provenance": [],
      "collapsed_sections": [],
      "authorship_tag": "ABX9TyPIIqjCy/ajpN5ggKprfl8A",
      "include_colab_link": true
    },
    "kernelspec": {
      "name": "python3",
      "display_name": "Python 3"
    }
  },
  "cells": [
    {
      "cell_type": "markdown",
      "metadata": {
        "id": "view-in-github",
        "colab_type": "text"
      },
      "source": [
        "<a href=\"https://colab.research.google.com/github/raj-vijay/da/blob/master/12_Decision_Analytics_Simplex_Algorithm.ipynb\" target=\"_parent\"><img src=\"https://colab.research.google.com/assets/colab-badge.svg\" alt=\"Open In Colab\"/></a>"
      ]
    },
    {
      "cell_type": "markdown",
      "metadata": {
        "id": "JoAeCLJgxPeW"
      },
      "source": [
        "**Simplex Algorithm**"
      ]
    },
    {
      "cell_type": "markdown",
      "metadata": {
        "id": "CKlxugdgxXU-"
      },
      "source": [
        "**BACKGROUND**\r\n",
        "\r\n",
        "Here we implement the simplex algorithm to solve linear programs and assess if it generates the same results as the OR Tools solver."
      ]
    },
    {
      "cell_type": "code",
      "metadata": {
        "colab": {
          "base_uri": "https://localhost:8080/",
          "height": 445
        },
        "id": "KukJoLocyw18",
        "outputId": "65645757-231a-40f8-b127-d758bce5f1c4"
      },
      "source": [
        "!pip install ortools"
      ],
      "execution_count": null,
      "outputs": [
        {
          "output_type": "stream",
          "text": [
            "Collecting ortools\n",
            "\u001b[?25l  Downloading https://files.pythonhosted.org/packages/63/94/2832edee6f4fb4e77e8585b6034f9506be24361fe6ead4e76de38ab0a666/ortools-8.1.8487-cp36-cp36m-manylinux1_x86_64.whl (14.0MB)\n",
            "\u001b[K     |████████████████████████████████| 14.0MB 280kB/s \n",
            "\u001b[?25hCollecting absl-py>=0.11\n",
            "\u001b[?25l  Downloading https://files.pythonhosted.org/packages/bc/58/0aa6fb779dc69cfc811df3398fcbeaeefbf18561b6e36b185df0782781cc/absl_py-0.11.0-py3-none-any.whl (127kB)\n",
            "\u001b[K     |████████████████████████████████| 133kB 54.7MB/s \n",
            "\u001b[?25hCollecting protobuf>=3.14.0\n",
            "\u001b[?25l  Downloading https://files.pythonhosted.org/packages/fe/fd/247ef25f5ec5f9acecfbc98ca3c6aaf66716cf52509aca9a93583d410493/protobuf-3.14.0-cp36-cp36m-manylinux1_x86_64.whl (1.0MB)\n",
            "\u001b[K     |████████████████████████████████| 1.0MB 25.1MB/s \n",
            "\u001b[?25hRequirement already satisfied: six in /usr/local/lib/python3.6/dist-packages (from absl-py>=0.11->ortools) (1.15.0)\n",
            "\u001b[31mERROR: tensorflow-metadata 0.25.0 has requirement absl-py<0.11,>=0.9, but you'll have absl-py 0.11.0 which is incompatible.\u001b[0m\n",
            "Installing collected packages: absl-py, protobuf, ortools\n",
            "  Found existing installation: absl-py 0.10.0\n",
            "    Uninstalling absl-py-0.10.0:\n",
            "      Successfully uninstalled absl-py-0.10.0\n",
            "  Found existing installation: protobuf 3.12.4\n",
            "    Uninstalling protobuf-3.12.4:\n",
            "      Successfully uninstalled protobuf-3.12.4\n",
            "Successfully installed absl-py-0.11.0 ortools-8.1.8487 protobuf-3.14.0\n"
          ],
          "name": "stdout"
        },
        {
          "output_type": "display_data",
          "data": {
            "application/vnd.colab-display-data+json": {
              "pip_warning": {
                "packages": [
                  "google"
                ]
              }
            }
          },
          "metadata": {
            "tags": []
          }
        }
      ]
    },
    {
      "cell_type": "code",
      "metadata": {
        "id": "Zv0PpV3my4YV"
      },
      "source": [
        "import numpy as np"
      ],
      "execution_count": null,
      "outputs": []
    },
    {
      "cell_type": "markdown",
      "metadata": {
        "id": "eJapzg5oxlPF"
      },
      "source": [
        "**Task 1**\r\n",
        "\r\n",
        "Implement a function to execute the pivoting operation on a matrix given the row and column of the pivot element.\r\n"
      ]
    },
    {
      "cell_type": "code",
      "metadata": {
        "id": "qZUu0KCixFw5"
      },
      "source": [
        "def execute_pivot(A,r,s):\r\n",
        "    A[r,:] = A[r,:]/A[r,s]\r\n",
        "    for i in range(A.shape[0]):\r\n",
        "        if i!=r:\r\n",
        "            A[i,:] = A[i,:] - A[i,s]*A[r,:]\r\n",
        "    return"
      ],
      "execution_count": null,
      "outputs": []
    },
    {
      "cell_type": "markdown",
      "metadata": {
        "id": "6Gx1-UmoyQlE"
      },
      "source": [
        "**Task 2**\r\n",
        "\r\n",
        "Implement a function to execute the phase 2 of the simplex algorithm that optimises a tableau with explicit basis vectors."
      ]
    },
    {
      "cell_type": "code",
      "metadata": {
        "id": "kgBfjr3ByZT9"
      },
      "source": [
        "def simplex_phase_2(A):                    \r\n",
        "    while True:    \r\n",
        "        pivots = {}\r\n",
        "        for j in range(1,A.shape[1]-1):\r\n",
        "            cj = A[0,j]\r\n",
        "            if cj>0:\r\n",
        "                for i in range(1,A.shape[0]):\r\n",
        "                    bi = A[i,-1]\r\n",
        "                    if A[i,j]>0:\r\n",
        "                        pivots[(i,j)] = bi/A[i,j]                    \r\n",
        "        if len(pivots)==0:\r\n",
        "            break        \r\n",
        "        pivot = min(pivots.keys(), key=(lambda k: pivots[k]))\r\n",
        "        execute_pivot(A,pivot[0],pivot[1])\r\n",
        "    return\r\n"
      ],
      "execution_count": null,
      "outputs": []
    },
    {
      "cell_type": "code",
      "metadata": {
        "id": "d2J8zkqIzCbW"
      },
      "source": [
        "def determine_basis(D):\r\n",
        "    basis = []\r\n",
        "    epsilon = 1e-6\r\n",
        "    for j in range(1,D.shape[1]):\r\n",
        "        if np.abs(D[0,j])<epsilon:\r\n",
        "            zeros = sum(abs(D[1:D.shape[0],j])<epsilon)\r\n",
        "            ones = sum(abs(D[1:D.shape[0],j]-1)<epsilon)\r\n",
        "            if (ones==1) and (zeros==D.shape[0]-2):\r\n",
        "                basis.append(j)\r\n",
        "    return basis"
      ],
      "execution_count": null,
      "outputs": []
    },
    {
      "cell_type": "markdown",
      "metadata": {
        "id": "eJpwGcwbyZl9"
      },
      "source": [
        "**Task 3**\r\n",
        "\r\n",
        "Implement a function to execute the phase 1 of the simplex algorithm that creates a tableau with explicit basis vectors.\r\n"
      ]
    },
    {
      "cell_type": "code",
      "metadata": {
        "id": "ja1tEvgOyg4F"
      },
      "source": [
        "def simplex_phase_1(A):\r\n",
        "    eb = np.sum(A[1:A.shape[0],-1])\r\n",
        "    eA = np.sum(A[1:A.shape[0],1:A.shape[1]-1],axis=0)\r\n",
        "        \r\n",
        "    a = np.append(np.append(np.append([1], eA), np.zeros((1,A.shape[0]-1))), eb) \r\n",
        "    \r\n",
        "    B = np.append(A[1:A.shape[0],0:A.shape[1]-1], np.eye(A.shape[0]-1), axis=1)\r\n",
        "    C = np.append(B, A[1:A.shape[0],-1].reshape(B.shape[0],1), axis=1)\r\n",
        "    D = np.append(a.reshape(1,len(a)),C,axis=0)    \r\n",
        "    \r\n",
        "    simplex_phase_2(D)\r\n",
        "    \r\n",
        "    epsilon = 1e-6\r\n",
        "    if not abs(D[0,-1])<epsilon:\r\n",
        "        print(\"No feasible solution!\")\r\n",
        "        return \r\n",
        "    \r\n",
        "    while True:\r\n",
        "        basis = determine_basis(D)        \r\n",
        "        finished = True\r\n",
        "        for j in basis:\r\n",
        "            if j>=A.shape[1]-1:\r\n",
        "                for i in range(1,D.shape[0]):\r\n",
        "                    if abs(D[i,j]-1)<epsilon:\r\n",
        "                        k = np.argmax(np.abs(D[i,1:A.shape[1]-1]))+1\r\n",
        "                        execute_pivot(D,i,k)\r\n",
        "                        finished = False\r\n",
        "        if finished:\r\n",
        "            break\r\n",
        "\r\n",
        "\r\n",
        "    E = np.append(D[:,0:A.shape[1]-1], D[:,-1].reshape(D.shape[0],1), axis=1)\r\n",
        "\r\n",
        "    for i in range(1,E.shape[1]-1):\r\n",
        "        if i in basis:\r\n",
        "            E[0,E.shape[1]-1] -= A[0,i]*D[np.argmax(D[:,i]),-1]\r\n",
        "        else:\r\n",
        "            E[0,i] = A[0,i]\r\n",
        "\r\n",
        "    return E"
      ],
      "execution_count": null,
      "outputs": []
    },
    {
      "cell_type": "markdown",
      "metadata": {
        "id": "etnIFHewyhD_"
      },
      "source": [
        "**Task 4**\r\n",
        "\r\n",
        "Create the input tableau for the diet problem. Run the tableau through the algorithm for phase 1 developed in task 3, and then through the phase 2 developed in task 2."
      ]
    },
    {
      "cell_type": "code",
      "metadata": {
        "id": "cbtMteq7zKK1"
      },
      "source": [
        "# Diet Problem"
      ],
      "execution_count": null,
      "outputs": []
    },
    {
      "cell_type": "code",
      "metadata": {
        "id": "opYVk4dbzLbc"
      },
      "source": [
        "A = np.array([[1,-9,-7,0,0,0,0],\r\n",
        "                  [0,2,4,-1,0,0,12],\r\n",
        "                  [0,5,3,0,-1,0,15],\r\n",
        "                  [0,4,1,0,0,-1,8]], dtype=np.float32)\r\n"
      ],
      "execution_count": null,
      "outputs": []
    },
    {
      "cell_type": "code",
      "metadata": {
        "colab": {
          "base_uri": "https://localhost:8080/"
        },
        "id": "7L8Brzz3zMHE",
        "outputId": "b30834bd-afc4-425c-f256-d209056eae70"
      },
      "source": [
        " print(A)"
      ],
      "execution_count": null,
      "outputs": [
        {
          "output_type": "stream",
          "text": [
            "[[ 1. -9. -7.  0.  0.  0.  0.]\n",
            " [ 0.  2.  4. -1.  0.  0. 12.]\n",
            " [ 0.  5.  3.  0. -1.  0. 15.]\n",
            " [ 0.  4.  1.  0.  0. -1.  8.]]\n"
          ],
          "name": "stdout"
        }
      ]
    },
    {
      "cell_type": "code",
      "metadata": {
        "id": "Q0JI_qc3zOc0"
      },
      "source": [
        "A = simplex_phase_1(A)"
      ],
      "execution_count": null,
      "outputs": []
    },
    {
      "cell_type": "code",
      "metadata": {
        "id": "i43LfZybzQcF"
      },
      "source": [
        "simplex_phase_2(A)"
      ],
      "execution_count": null,
      "outputs": []
    },
    {
      "cell_type": "code",
      "metadata": {
        "colab": {
          "base_uri": "https://localhost:8080/"
        },
        "id": "CUUKBFmyzSrU",
        "outputId": "b2bb7c40-d06e-4df9-94d3-75be7f181e34"
      },
      "source": [
        "print(np.array(100*A, dtype=np.int32)/100.0)"
      ],
      "execution_count": null,
      "outputs": [
        {
          "output_type": "stream",
          "text": [
            "[[ 1.    0.    0.    0.    0.    0.   30.42]\n",
            " [ 0.    0.    1.   -0.35  0.14  0.    2.14]\n",
            " [ 0.    0.    0.    0.5  -1.    1.    1.  ]\n",
            " [ 0.    1.    0.    0.21 -0.28  0.    1.71]]\n"
          ],
          "name": "stdout"
        }
      ]
    }
  ]
}