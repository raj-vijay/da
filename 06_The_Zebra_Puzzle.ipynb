{
  "nbformat": 4,
  "nbformat_minor": 0,
  "metadata": {
    "colab": {
      "name": "06. The Zebra Puzzle.ipynb",
      "provenance": [],
      "collapsed_sections": [],
      "authorship_tag": "ABX9TyO+rF4dtjDE+V9YHkll2rKK",
      "include_colab_link": true
    },
    "kernelspec": {
      "name": "python3",
      "display_name": "Python 3"
    }
  },
  "cells": [
    {
      "cell_type": "markdown",
      "metadata": {
        "id": "view-in-github",
        "colab_type": "text"
      },
      "source": [
        "<a href=\"https://colab.research.google.com/github/raj-vijay/da/blob/master/06_The_Zebra_Puzzle.ipynb\" target=\"_parent\"><img src=\"https://colab.research.google.com/assets/colab-badge.svg\" alt=\"Open In Colab\"/></a>"
      ]
    },
    {
      "cell_type": "markdown",
      "metadata": {
        "id": "UwidfqQIlOQ3"
      },
      "source": [
        "**There are five houses**\n",
        "\n",
        "• The Englishman lives in the red house.\n",
        "\n",
        "• The Spaniard owns the dog.\n",
        "\n",
        "• Coffee is drunk in the green house.\n",
        "\n",
        "• The Ukrainian drinks tea.\n",
        "\n",
        "• The green house is immediately to the right of the ivory house.\n",
        "\n",
        "• The Old Gold smoker owns snails.\n",
        "\n",
        "• Kools are smoked in the yellow house.\n",
        "\n",
        "• Milk is drunk in the middle house.\n",
        "\n",
        "• The Norwegian lives in the first house.\n",
        "\n",
        "• The man who smokes Chesterfields lives in the house next to the man with the fox.\n",
        "\n",
        "• Kools are smoked in the house next to the house where the horse is kept.\n",
        "\n",
        "• The Lucky Strike smoker drinks orange juice.\n",
        "\n",
        "• The Japanese smokes Parliaments.\n",
        "\n",
        "• The Norwegian lives next to the blue house.\n",
        "\n",
        "• Now, who drinks water? Who owns the zebra?"
      ]
    },
    {
      "cell_type": "markdown",
      "metadata": {
        "id": "MMw9CbxZlcPf"
      },
      "source": [
        "**Task 1**\n",
        "\n",
        "<p align = 'justify'>Write a Python program that creates a CP-SAT model and adds all Boolean variables necessary for representing the predicates required for this problem to this model.</p>"
      ]
    },
    {
      "cell_type": "code",
      "metadata": {
        "id": "n76Km56-lq7G",
        "outputId": "fb946747-152c-47c9-98ff-a85117d6c642",
        "colab": {
          "base_uri": "https://localhost:8080/",
          "height": 343
        }
      },
      "source": [
        "!pip install ortools"
      ],
      "execution_count": null,
      "outputs": [
        {
          "output_type": "stream",
          "text": [
            "Collecting ortools\n",
            "\u001b[?25l  Downloading https://files.pythonhosted.org/packages/be/06/70475cc058328217739dff257a85fe2e90ecdbc1068d8fe52ad6f30fc53b/ortools-8.0.8283-cp36-cp36m-manylinux1_x86_64.whl (13.7MB)\n",
            "\u001b[K     |████████████████████████████████| 13.7MB 299kB/s \n",
            "\u001b[?25hRequirement already satisfied: six>=1.10 in /usr/local/lib/python3.6/dist-packages (from ortools) (1.15.0)\n",
            "Collecting protobuf>=3.13.0\n",
            "\u001b[?25l  Downloading https://files.pythonhosted.org/packages/30/79/510974552cebff2ba04038544799450defe75e96ea5f1675dbf72cc8744f/protobuf-3.13.0-cp36-cp36m-manylinux1_x86_64.whl (1.3MB)\n",
            "\u001b[K     |████████████████████████████████| 1.3MB 36.9MB/s \n",
            "\u001b[?25hRequirement already satisfied: setuptools in /usr/local/lib/python3.6/dist-packages (from protobuf>=3.13.0->ortools) (50.3.2)\n",
            "Installing collected packages: protobuf, ortools\n",
            "  Found existing installation: protobuf 3.12.4\n",
            "    Uninstalling protobuf-3.12.4:\n",
            "      Successfully uninstalled protobuf-3.12.4\n",
            "Successfully installed ortools-8.0.8283 protobuf-3.13.0\n"
          ],
          "name": "stdout"
        },
        {
          "output_type": "display_data",
          "data": {
            "application/vnd.colab-display-data+json": {
              "pip_warning": {
                "packages": [
                  "google"
                ]
              }
            }
          },
          "metadata": {
            "tags": []
          }
        }
      ]
    },
    {
      "cell_type": "code",
      "metadata": {
        "id": "59KlqYe5k6XL"
      },
      "source": [
        "from ortools.sat.python import cp_model"
      ],
      "execution_count": null,
      "outputs": []
    },
    {
      "cell_type": "code",
      "metadata": {
        "id": "nuF72_xklzP4"
      },
      "source": [
        "houses = [\"House #1\", \"House #2\", \"House #3\", \"House #4\", \"House #5\"]"
      ],
      "execution_count": null,
      "outputs": []
    },
    {
      "cell_type": "code",
      "metadata": {
        "id": "j_UEdwHFlz3n"
      },
      "source": [
        "colours = [\"red\", \"green\", \"ivory\", \"yellow\", \"blue\" ]"
      ],
      "execution_count": null,
      "outputs": []
    },
    {
      "cell_type": "code",
      "metadata": {
        "id": "nvgSzF9gl281"
      },
      "source": [
        "nationalities = [\"English\", \n",
        "                 \"Spanish\",\n",
        "                 \"Ukrainian\", \n",
        "                 \"Norwegian\", \n",
        "                 \"Japanese\"]"
      ],
      "execution_count": null,
      "outputs": []
    },
    {
      "cell_type": "code",
      "metadata": {
        "id": "wz76R5f9l6PI"
      },
      "source": [
        "pets = [\"dog\", \"snails\", \"fox\", \"horse\", \"zebra\"]"
      ],
      "execution_count": null,
      "outputs": []
    },
    {
      "cell_type": "code",
      "metadata": {
        "id": "pYDFxh6Bl91p"
      },
      "source": [
        "drinks = [\"coffee\", \"tea\", \"milk\", \"juice\", \"water\"]"
      ],
      "execution_count": null,
      "outputs": []
    },
    {
      "cell_type": "code",
      "metadata": {
        "id": "cKEE9tQTmBht"
      },
      "source": [
        "cigarettes = [\"Old Gold\", \n",
        "              \"Chesterfields\", \n",
        "              \"Kools\", \n",
        "              \"Lucky Strike\", \n",
        "              \"Parliaments\"]"
      ],
      "execution_count": null,
      "outputs": []
    },
    {
      "cell_type": "markdown",
      "metadata": {
        "id": "RRDjfHvGoAMc"
      },
      "source": [
        "**Task 2**\n",
        "\n",
        "Formulate the sentences of the logic puzzle using first-order logic and add them to the CPSAT model as constraints.\n"
      ]
    },
    {
      "cell_type": "code",
      "metadata": {
        "id": "NWg5H38CmBg1"
      },
      "source": [
        "class SolutionPrinter(cp_model.CpSolverSolutionCallback):\n",
        "    def __init__(self, colour, nationality, pet, drink, cigarette):\n",
        "        cp_model.CpSolverSolutionCallback.__init__(self)\n",
        "        self.colour_ = colour\n",
        "        self.nationality_ = nationality\n",
        "        self.pet_ = pet\n",
        "        self.drink_ = drink\n",
        "        self.cigarette_ = cigarette\n",
        "        self.solutions_ = 0\n",
        "\n",
        "    def OnSolutionCallback(self):\n",
        "        self.solutions_ = self.solutions_ + 1\n",
        "        print(\"solution\", self.solutions_ )\n",
        "        \n",
        "        for house in houses:\n",
        "            print(\" - \"+house+\":\")\n",
        "            for colour in colours:\n",
        "                if (self.Value(self.colour_[house][colour])):\n",
        "                    print(\"    - \", colour)\n",
        "            for nationality in nationalities:\n",
        "                if (self.Value(self.nationality_[house][nationality])):\n",
        "                    print(\"    - \", nationality)\n",
        "            for pet in pets:\n",
        "                if (self.Value(self.pet_[house][pet])):\n",
        "                    print(\"    - \", pet)\n",
        "            for drink in drinks:\n",
        "                if (self.Value(self.drink_[house][drink])):\n",
        "                    print(\"    - \", drink)\n",
        "            for cigarette in cigarettes:\n",
        "                if (self.Value(self.cigarette_[house][cigarette])):\n",
        "                    print(\"    - \", cigarette)\n",
        "        \n",
        "        print()\n",
        "        "
      ],
      "execution_count": null,
      "outputs": []
    },
    {
      "cell_type": "code",
      "metadata": {
        "id": "qCEID7QLmGU1"
      },
      "source": [
        "model = cp_model.CpModel()"
      ],
      "execution_count": null,
      "outputs": []
    },
    {
      "cell_type": "code",
      "metadata": {
        "id": "bo4alihrmJGd"
      },
      "source": [
        "house_colour = {}"
      ],
      "execution_count": null,
      "outputs": []
    },
    {
      "cell_type": "code",
      "metadata": {
        "id": "I0PnN-rqmTcl"
      },
      "source": [
        "for house in houses:        \n",
        "        variables = {}\n",
        "        for colour in colours:    \n",
        "            variables[colour] = model.NewBoolVar(house+colour)\n",
        "        house_colour[house] = variables"
      ],
      "execution_count": null,
      "outputs": []
    },
    {
      "cell_type": "code",
      "metadata": {
        "id": "83Q78go1mWz3"
      },
      "source": [
        "house_nationality = {}"
      ],
      "execution_count": null,
      "outputs": []
    },
    {
      "cell_type": "code",
      "metadata": {
        "id": "VVqAnXTnmYmN"
      },
      "source": [
        "for house in houses:        \n",
        "        variables = {}\n",
        "        for nationality in nationalities:    \n",
        "            variables[nationality] = model.NewBoolVar(house+nationality)\n",
        "        house_nationality[house] = variables"
      ],
      "execution_count": null,
      "outputs": []
    },
    {
      "cell_type": "code",
      "metadata": {
        "id": "xQIVXxmkma6F"
      },
      "source": [
        "house_pet = {}"
      ],
      "execution_count": null,
      "outputs": []
    },
    {
      "cell_type": "code",
      "metadata": {
        "id": "9yNpMHKSmcHd"
      },
      "source": [
        "for house in houses:        \n",
        "        variables = {}\n",
        "        for pet in pets:    \n",
        "            variables[pet] = model.NewBoolVar(house+pet)\n",
        "        house_pet[house] = variables"
      ],
      "execution_count": null,
      "outputs": []
    },
    {
      "cell_type": "code",
      "metadata": {
        "id": "FbzoBMVvmebl"
      },
      "source": [
        "house_drink = {}"
      ],
      "execution_count": null,
      "outputs": []
    },
    {
      "cell_type": "code",
      "metadata": {
        "id": "RtFYEALXmgcw"
      },
      "source": [
        "for house in houses:        \n",
        "        variables = {}\n",
        "        for drink in drinks:    \n",
        "            variables[drink] = model.NewBoolVar(house+drink)\n",
        "        house_drink[house] = variables"
      ],
      "execution_count": null,
      "outputs": []
    },
    {
      "cell_type": "code",
      "metadata": {
        "id": "o5NNfaUgmiAd"
      },
      "source": [
        "house_cigarette = {}"
      ],
      "execution_count": null,
      "outputs": []
    },
    {
      "cell_type": "code",
      "metadata": {
        "id": "O5LH2HTFmtu9"
      },
      "source": [
        "for house in houses:        \n",
        "        variables = {}\n",
        "        for cigarette in cigarettes:    \n",
        "            variables[cigarette] = model.NewBoolVar(house+cigarette)\n",
        "        house_cigarette[house] = variables"
      ],
      "execution_count": null,
      "outputs": []
    },
    {
      "cell_type": "markdown",
      "metadata": {
        "id": "4cSFKSbCoLQN"
      },
      "source": [
        "**Task 3**\n",
        "\n",
        "Formulate the implicit constraints using first-order logic and add them to the CP-SAT model as constraints."
      ]
    },
    {
      "cell_type": "code",
      "metadata": {
        "id": "HG2c0S-XmxN1"
      },
      "source": [
        "# every house has a different property\n",
        "for i in range(5):\n",
        "        for j in range(i+1,5):\n",
        "            for k in range(5):\n",
        "                model.AddBoolOr([\n",
        "                        house_colour[houses[i]][colours[k]].Not(), \n",
        "                        house_colour[houses[j]][colours[k]].Not()])\n",
        "                model.AddBoolOr([house_nationality[houses[i]][nationalities[k]].Not(), house_nationality[houses[j]][nationalities[k]].Not()])\n",
        "                model.AddBoolOr([house_pet[houses[i]][pets[k]].Not(), house_pet[houses[j]][pets[k]].Not()])\n",
        "                model.AddBoolOr([house_drink[houses[i]][drinks[k]].Not(), house_drink[houses[j]][drinks[k]].Not()])\n",
        "                model.AddBoolOr([house_cigarette[houses[i]][cigarettes[k]].Not(), house_cigarette[houses[j]][cigarettes[k]].Not()])\n",
        "            \n",
        "for house in houses:\n",
        "        # at least one property per house\n",
        "        variables = []\n",
        "        for colour in colours:\n",
        "            variables.append(house_colour[house][colour])\n",
        "        model.AddBoolOr(variables)\n",
        "\n",
        "        variables = []\n",
        "        for nationality in nationalities:\n",
        "            variables.append(house_nationality[house][nationality])\n",
        "        model.AddBoolOr(variables)\n",
        "\n",
        "        variables = []\n",
        "        for pet in pets:\n",
        "            variables.append(house_pet[house][pet])\n",
        "        model.AddBoolOr(variables)\n",
        "\n",
        "        variables = []\n",
        "        for drink in drinks:\n",
        "            variables.append(house_drink[house][drink])\n",
        "        model.AddBoolOr(variables)\n",
        "\n",
        "        variables = []\n",
        "        for cigarette in cigarettes:\n",
        "            variables.append(house_cigarette[house][cigarette])\n",
        "        model.AddBoolOr(variables)\n",
        "\n",
        "        # max one property per house\n",
        "        for i in range(5):\n",
        "            for j in range(i+1,5):\n",
        "                model.AddBoolOr([\n",
        "                        house_colour[house][colours[i]].Not(), \n",
        "                        house_colour[house][colours[j]].Not()])\n",
        "                model.AddBoolOr([\n",
        "                        house_nationality[house][nationalities[i]].Not(), \n",
        "                        house_nationality[house][nationalities[j]].Not()])\n",
        "                model.AddBoolOr([\n",
        "                        house_pet[house][pets[i]].Not(), \n",
        "                        house_pet[house][pets[j]].Not()])\n",
        "                model.AddBoolOr([\n",
        "                        house_drink[house][drinks[i]].Not(), \n",
        "                        house_drink[house][drinks[j]].Not()])\n",
        "                model.AddBoolOr([\n",
        "                        house_cigarette[house][cigarettes[i]].Not(), \n",
        "                        house_cigarette[house][cigarettes[j]].Not()])\n",
        "                \n",
        "        # conditions\n",
        "        model.AddBoolAnd([house_colour[house][\"red\"]]).OnlyEnforceIf(house_nationality[house][\"English\"])\n",
        "        model.AddBoolAnd([house_pet[house][\"dog\"]]).OnlyEnforceIf(house_nationality[house][\"Spanish\"])\n",
        "        model.AddBoolAnd([house_drink[house][\"coffee\"]]).OnlyEnforceIf(house_colour[house][\"green\"])\n",
        "        model.AddBoolAnd([house_drink[house][\"tea\"]]).OnlyEnforceIf(house_nationality[house][\"Ukrainian\"])\n",
        "        model.AddBoolAnd([house_pet[house][\"snails\"]]).OnlyEnforceIf(house_cigarette[house][\"Old Gold\"])\n",
        "        model.AddBoolAnd([house_colour[house][\"yellow\"]]).OnlyEnforceIf(house_cigarette[house][\"Kools\"])\n",
        "        model.AddBoolAnd([house_drink[house][\"juice\"]]).OnlyEnforceIf(house_cigarette[house][\"Lucky Strike\"])\n",
        "        model.AddBoolAnd([house_cigarette[house][\"Parliaments\"]]).OnlyEnforceIf(house_nationality[house][\"Japanese\"])\n",
        "    \n",
        "for i in range(1,4):\n",
        "        model.AddBoolAnd([house_colour[houses[i+1]][\"green\"]]).OnlyEnforceIf(house_colour[houses[i]][\"ivory\"])\n",
        "       \n",
        "        model.AddBoolOr([\n",
        "                house_pet[houses[i+1]][\"fox\"], \n",
        "                house_pet[houses[i-1]][\"fox\"]]).OnlyEnforceIf(house_cigarette[houses[i]][\"Chesterfields\"])\n",
        "        model.AddBoolOr([\n",
        "                house_pet[houses[i+1]][\"horse\"], \n",
        "                house_pet[houses[i-1]][\"horse\"]]).OnlyEnforceIf(house_cigarette[houses[i]][\"Kools\"])\n",
        "        model.AddBoolOr([\n",
        "                house_nationality[houses[i+1]][\"Norwegian\"], \n",
        "                house_nationality[houses[i-1]][\"Norwegian\"]]).OnlyEnforceIf(house_colour[houses[i]][\"blue\"])"
      ],
      "execution_count": null,
      "outputs": []
    },
    {
      "cell_type": "code",
      "metadata": {
        "id": "nQbz7_8km-Id",
        "outputId": "920f0e20-60fd-4f0c-a6bd-b7c1601cef01",
        "colab": {
          "base_uri": "https://localhost:8080/"
        }
      },
      "source": [
        "    # Handle boundary cases\n",
        "    model.AddBoolAnd([house_colour[houses[1]][\"green\"]]).OnlyEnforceIf(house_colour[houses[0]][\"ivory\"])\n",
        "    model.AddBoolAnd([house_colour[houses[4]][\"ivory\"].Not()])\n",
        "\n",
        "    model.AddBoolOr([house_pet[\"House #2\"][\"fox\"]]).OnlyEnforceIf(house_cigarette[\"House #1\"][\"Chesterfields\"])\n",
        "    model.AddBoolOr([house_pet[\"House #4\"][\"fox\"]]).OnlyEnforceIf(house_cigarette[\"House #5\"][\"Chesterfields\"])\n",
        "\n",
        "    model.AddBoolOr([house_pet[houses[1]][\"horse\"]]).OnlyEnforceIf(house_cigarette[houses[0]][\"Kools\"])\n",
        "    model.AddBoolOr([house_pet[houses[3]][\"horse\"]]).OnlyEnforceIf(house_cigarette[houses[4]][\"Kools\"])\n",
        "\n",
        "    model.AddBoolOr([house_nationality[houses[1]][\"Norwegian\"]]).OnlyEnforceIf(house_colour[houses[0]][\"blue\"])\n",
        "    model.AddBoolOr([house_nationality[houses[3]][\"Norwegian\"]]).OnlyEnforceIf(house_colour[houses[4]][\"blue\"])"
      ],
      "execution_count": null,
      "outputs": [
        {
          "output_type": "execute_result",
          "data": {
            "text/plain": [
              "<ortools.sat.python.cp_model.Constraint at 0x7f1a8669feb8>"
            ]
          },
          "metadata": {
            "tags": []
          },
          "execution_count": 31
        }
      ]
    },
    {
      "cell_type": "code",
      "metadata": {
        "id": "ztb1cDZRneue",
        "outputId": "bfe0f93d-f41a-4edf-b218-70a995944f05",
        "colab": {
          "base_uri": "https://localhost:8080/"
        }
      },
      "source": [
        "    # final conditions\n",
        "    model.AddBoolAnd([house_drink[\"House #3\"][\"milk\"]])\n",
        "    model.AddBoolAnd([house_nationality[\"House #1\"][\"Norwegian\"]])"
      ],
      "execution_count": null,
      "outputs": [
        {
          "output_type": "execute_result",
          "data": {
            "text/plain": [
              "<ortools.sat.python.cp_model.Constraint at 0x7f1a888916d8>"
            ]
          },
          "metadata": {
            "tags": []
          },
          "execution_count": 32
        }
      ]
    },
    {
      "cell_type": "markdown",
      "metadata": {
        "id": "_p8w1-NvoXHE"
      },
      "source": [
        "**Task 4**\n",
        "\n",
        "Implement a CpSolverSolutionCallback that prints out assignments of nationality, colour, pet, drink and cigarette for each house.\n"
      ]
    },
    {
      "cell_type": "code",
      "metadata": {
        "id": "OzT4Me5Gngsl"
      },
      "source": [
        "solver = cp_model.CpSolver()"
      ],
      "execution_count": null,
      "outputs": []
    },
    {
      "cell_type": "code",
      "metadata": {
        "id": "xcBzKqDCnn9F",
        "outputId": "6d815b05-5948-4a6b-e4f8-9d2b5d9f9475",
        "colab": {
          "base_uri": "https://localhost:8080/"
        }
      },
      "source": [
        "solver.SearchForAllSolutions(model, SolutionPrinter(house_colour, house_nationality, house_pet, house_drink, house_cigarette))"
      ],
      "execution_count": null,
      "outputs": [
        {
          "output_type": "stream",
          "text": [
            "solution 1\n",
            " - House #1:\n",
            "    -  yellow\n",
            "    -  Norwegian\n",
            "    -  fox\n",
            "    -  water\n",
            "    -  Kools\n",
            " - House #2:\n",
            "    -  blue\n",
            "    -  Ukrainian\n",
            "    -  horse\n",
            "    -  tea\n",
            "    -  Chesterfields\n",
            " - House #3:\n",
            "    -  red\n",
            "    -  English\n",
            "    -  snails\n",
            "    -  milk\n",
            "    -  Old Gold\n",
            " - House #4:\n",
            "    -  ivory\n",
            "    -  Spanish\n",
            "    -  dog\n",
            "    -  juice\n",
            "    -  Lucky Strike\n",
            " - House #5:\n",
            "    -  green\n",
            "    -  Japanese\n",
            "    -  zebra\n",
            "    -  coffee\n",
            "    -  Parliaments\n",
            "\n"
          ],
          "name": "stdout"
        },
        {
          "output_type": "execute_result",
          "data": {
            "text/plain": [
              "4"
            ]
          },
          "metadata": {
            "tags": []
          },
          "execution_count": 36
        }
      ]
    },
    {
      "cell_type": "markdown",
      "metadata": {
        "id": "k9UI5dLeohkX"
      },
      "source": [
        "**Task 5**\n",
        "\n",
        "Solve the puzzle and print out the solution."
      ]
    },
    {
      "cell_type": "code",
      "metadata": {
        "id": "nlDg8NTXnpx1",
        "outputId": "b4f47bfa-1c10-4930-ab83-cfda0f5294ac",
        "colab": {
          "base_uri": "https://localhost:8080/"
        }
      },
      "source": [
        "for house in houses:\n",
        "        if solver.Value(house_drink[house][\"water\"]):\n",
        "            for nationality in nationalities:\n",
        "                if solver.Value(house_nationality[house][nationality]):\n",
        "                    print(\"The \"+nationality+\" drinks water.\")\n",
        "        if solver.Value(house_pet[house][\"zebra\"]):\n",
        "            for nationality in nationalities:\n",
        "                if solver.Value(house_nationality[house][nationality]):\n",
        "                    print(\"The \"+nationality+\" owns the zebra.\")"
      ],
      "execution_count": null,
      "outputs": [
        {
          "output_type": "stream",
          "text": [
            "The Norwegian drinks water.\n",
            "The Japanese owns the zebra.\n"
          ],
          "name": "stdout"
        }
      ]
    }
  ]
}