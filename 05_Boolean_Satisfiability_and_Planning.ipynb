{
  "nbformat": 4,
  "nbformat_minor": 0,
  "metadata": {
    "colab": {
      "name": "05. Boolean Satisfiability and Planning.ipynb",
      "provenance": [],
      "collapsed_sections": [],
      "authorship_tag": "ABX9TyNLIllUr5LtiS7+FEgrwEjV",
      "include_colab_link": true
    },
    "kernelspec": {
      "name": "python3",
      "display_name": "Python 3"
    }
  },
  "cells": [
    {
      "cell_type": "markdown",
      "metadata": {
        "id": "view-in-github",
        "colab_type": "text"
      },
      "source": [
        "<a href=\"https://colab.research.google.com/github/raj-vijay/da/blob/master/05_Boolean_Satisfiability_and_Planning.ipynb\" target=\"_parent\"><img src=\"https://colab.research.google.com/assets/colab-badge.svg\" alt=\"Open In Colab\"/></a>"
      ]
    },
    {
      "cell_type": "markdown",
      "metadata": {
        "id": "xFTcmpJ2s3s0"
      },
      "source": [
        "**The wolf, the sheep, and the cabbage**"
      ]
    },
    {
      "cell_type": "markdown",
      "metadata": {
        "id": "wq4b4Nk4s9gY"
      },
      "source": [
        "<p align = 'justify'>On the shore of a river, there is a wolf, a sheep, and a\n",
        "cabbage. One can take a maximum of one of these with them on a boat. Obviously, the objective is to ferry all across, and hence would need multiple journeys back and forth. \n",
        "\n",
        "The problem is, if you leave the wolf and the sheep unattended, the wolf will eat the sheep. Also, if you leave the sheep and the cabbage alone on one shore, the sheep will have eaten the cabbage when you return.</p>"
      ]
    },
    {
      "cell_type": "markdown",
      "metadata": {
        "id": "itNJisPutiLq"
      },
      "source": [
        "The plan is to answer how to ferry all three over the river, never leaving wolf and sheep or sheep and cabbage unattended."
      ]
    },
    {
      "cell_type": "markdown",
      "metadata": {
        "id": "gnRvd_01u96j"
      },
      "source": [
        "![alt text](https://i.ytimg.com/vi/pU-5OBl_ucM/sddefault.jpg)"
      ]
    },
    {
      "cell_type": "markdown",
      "metadata": {
        "id": "DK7kqhEc_DMK"
      },
      "source": [
        "<p align = 'justify'>Write a Python program that creates a CP-SAT model and adds all Boolean variables necessary for representing the predicates required for this problem to this model.</p>"
      ]
    },
    {
      "cell_type": "code",
      "metadata": {
        "id": "l0y5gQmI_SzS",
        "outputId": "b187615a-0e7a-4cbb-b6b1-6af3aeefa9f4",
        "colab": {
          "base_uri": "https://localhost:8080/",
          "height": 343
        }
      },
      "source": [
        "!pip install ortools"
      ],
      "execution_count": null,
      "outputs": [
        {
          "output_type": "stream",
          "text": [
            "Collecting ortools\n",
            "\u001b[?25l  Downloading https://files.pythonhosted.org/packages/be/06/70475cc058328217739dff257a85fe2e90ecdbc1068d8fe52ad6f30fc53b/ortools-8.0.8283-cp36-cp36m-manylinux1_x86_64.whl (13.7MB)\n",
            "\u001b[K     |████████████████████████████████| 13.7MB 302kB/s \n",
            "\u001b[?25hCollecting protobuf>=3.13.0\n",
            "\u001b[?25l  Downloading https://files.pythonhosted.org/packages/30/79/510974552cebff2ba04038544799450defe75e96ea5f1675dbf72cc8744f/protobuf-3.13.0-cp36-cp36m-manylinux1_x86_64.whl (1.3MB)\n",
            "\u001b[K     |████████████████████████████████| 1.3MB 42.8MB/s \n",
            "\u001b[?25hRequirement already satisfied: six>=1.10 in /usr/local/lib/python3.6/dist-packages (from ortools) (1.15.0)\n",
            "Requirement already satisfied: setuptools in /usr/local/lib/python3.6/dist-packages (from protobuf>=3.13.0->ortools) (50.3.0)\n",
            "Installing collected packages: protobuf, ortools\n",
            "  Found existing installation: protobuf 3.12.4\n",
            "    Uninstalling protobuf-3.12.4:\n",
            "      Successfully uninstalled protobuf-3.12.4\n",
            "Successfully installed ortools-8.0.8283 protobuf-3.13.0\n"
          ],
          "name": "stdout"
        },
        {
          "output_type": "display_data",
          "data": {
            "application/vnd.colab-display-data+json": {
              "pip_warning": {
                "packages": [
                  "google"
                ]
              }
            }
          },
          "metadata": {
            "tags": []
          }
        }
      ]
    },
    {
      "cell_type": "code",
      "metadata": {
        "id": "L49UjKD0sYay"
      },
      "source": [
        "from ortools.sat.python import cp_model"
      ],
      "execution_count": null,
      "outputs": []
    },
    {
      "cell_type": "code",
      "metadata": {
        "id": "XAqKI0BO_Zb_"
      },
      "source": [
        "class SolutionPrinter(cp_model.CpSolverSolutionCallback):\n",
        "    def __init__(self, variables):\n",
        "        cp_model.CpSolverSolutionCallback.__init__(self)\n",
        "        self.variables_ = variables\n",
        "        self.solutions_ = 0\n",
        "\n",
        "    def OnSolutionCallback(self):\n",
        "        self.solutions_ = self.solutions_ + 1\n",
        "        print(\"solution\", self.solutions_ )\n",
        "        i=0\n",
        "        for vars_in_timestep in self.variables_:\n",
        "            i=i+1\n",
        "            # print(\" - Timestep: \", i)\n",
        "            for op in vars_in_timestep:\n",
        "                if self.Value(vars_in_timestep[op]):\n",
        "                    print(\"   \", op)\n",
        "        print()"
      ],
      "execution_count": null,
      "outputs": []
    },
    {
      "cell_type": "markdown",
      "metadata": {
        "id": "1iKov7LL_rgc"
      },
      "source": [
        "<p align = 'justify'>Create the additional Boolean variables required to model the operators of this problem and add them to the CP-SAT model.</p>"
      ]
    },
    {
      "cell_type": "code",
      "metadata": {
        "id": "6_5VDrxl_zsq"
      },
      "source": [
        "model = cp_model.CpModel()"
      ],
      "execution_count": null,
      "outputs": []
    },
    {
      "cell_type": "code",
      "metadata": {
        "id": "iPZbJpoV_2fO"
      },
      "source": [
        "maxT = 8"
      ],
      "execution_count": null,
      "outputs": []
    },
    {
      "cell_type": "code",
      "metadata": {
        "id": "Eg-SHt1OARzM"
      },
      "source": [
        "WolfOnThisSide = []   \n",
        "SheepOnThisSide = []\n",
        "CabbageOnThisSide = []\n",
        "FerrymanOnThisSide = []"
      ],
      "execution_count": null,
      "outputs": []
    },
    {
      "cell_type": "code",
      "metadata": {
        "id": "-K9l5W34AUPj"
      },
      "source": [
        "WolfOnOppositeSide = []\n",
        "SheepOnOppositeSide = []\n",
        "CabbageOnOppositeSide = []\n",
        "FerrymanOnOppositeSide = []"
      ],
      "execution_count": null,
      "outputs": []
    },
    {
      "cell_type": "code",
      "metadata": {
        "id": "04cWHW5hAbdZ"
      },
      "source": [
        "for t in range(maxT):\n",
        "  WolfOnThisSide.append(model.NewBoolVar(\"WolfOnThisSide\"+str(t)))\n",
        "  SheepOnThisSide.append(model.NewBoolVar(\"SheepOnThisSide\"+str(t)))\n",
        "  CabbageOnThisSide.append(model.NewBoolVar(\"CabbageOnThisSide\"+str(t)))\n",
        "  FerrymanOnThisSide.append(model.NewBoolVar(\"FerrymanOnThisSide\"+str(t)))\n",
        "  \n",
        "  WolfOnOppositeSide.append(model.NewBoolVar(\"WolfOnOppositeSide\"+str(t)))\n",
        "  SheepOnOppositeSide.append(model.NewBoolVar(\"SheepOnOppositeSide\"+str(t)))\n",
        "  CabbageOnOppositeSide.append(model.NewBoolVar(\"CabbageOnOppositeSide\"+str(t)))\n",
        "  FerrymanOnOppositeSide.append(model.NewBoolVar(\"FerrymanOnOppositeSide\"+str(t)))"
      ],
      "execution_count": null,
      "outputs": []
    },
    {
      "cell_type": "markdown",
      "metadata": {
        "id": "s_p57K5H_dnz"
      },
      "source": [
        "<p align = 'justify'>Formulate the initial and goal state in terms of the variables created in task 1 and add them to the CP-SAT model as constraints.</p>"
      ]
    },
    {
      "cell_type": "code",
      "metadata": {
        "id": "NEaKmWH5A3oy",
        "outputId": "1a77f4e4-54be-4637-b3b2-dd8f6c68c6e1",
        "colab": {
          "base_uri": "https://localhost:8080/",
          "height": 34
        }
      },
      "source": [
        "# Initial state\n",
        "model.AddBoolAnd(\n",
        "        [FerrymanOnThisSide[0], \n",
        "         WolfOnThisSide[0], \n",
        "         SheepOnThisSide[0], \n",
        "         CabbageOnThisSide[0] ] )"
      ],
      "execution_count": null,
      "outputs": [
        {
          "output_type": "execute_result",
          "data": {
            "text/plain": [
              "<ortools.sat.python.cp_model.Constraint at 0x7f6a4428fb38>"
            ]
          },
          "metadata": {
            "tags": []
          },
          "execution_count": 12
        }
      ]
    },
    {
      "cell_type": "code",
      "metadata": {
        "id": "V9LBpI36A_65",
        "outputId": "ebcf9309-1903-4b7e-cf82-0986426e0983",
        "colab": {
          "base_uri": "https://localhost:8080/",
          "height": 34
        }
      },
      "source": [
        "model.AddBoolAnd( \n",
        "  [FerrymanOnOppositeSide[0].Not(), \n",
        "   WolfOnOppositeSide[0].Not(), \n",
        "   SheepOnOppositeSide[0].Not(), \n",
        "   CabbageOnOppositeSide[0].Not() ] )"
      ],
      "execution_count": null,
      "outputs": [
        {
          "output_type": "execute_result",
          "data": {
            "text/plain": [
              "<ortools.sat.python.cp_model.Constraint at 0x7f6a4428ff98>"
            ]
          },
          "metadata": {
            "tags": []
          },
          "execution_count": 13
        }
      ]
    },
    {
      "cell_type": "code",
      "metadata": {
        "id": "fBtMnZmEBEKP",
        "outputId": "2f3b350e-2a6a-47e3-c3e5-27bd29008344",
        "colab": {
          "base_uri": "https://localhost:8080/",
          "height": 34
        }
      },
      "source": [
        "# Goal state\n",
        "model.AddBoolAnd(\n",
        "    [WolfOnOppositeSide[maxT-1],\n",
        "     SheepOnOppositeSide[maxT-1],\n",
        "     CabbageOnOppositeSide[maxT-1]])"
      ],
      "execution_count": null,
      "outputs": [
        {
          "output_type": "execute_result",
          "data": {
            "text/plain": [
              "<ortools.sat.python.cp_model.Constraint at 0x7f6a4428fcc0>"
            ]
          },
          "metadata": {
            "tags": []
          },
          "execution_count": 14
        }
      ]
    },
    {
      "cell_type": "markdown",
      "metadata": {
        "id": "Ys-0lUvSCbcL"
      },
      "source": [
        "<p align = 'justify'>Create the additional Boolean variables required to model the operators of this problem and add them to the CP-SAT model.</p>"
      ]
    },
    {
      "cell_type": "code",
      "metadata": {
        "id": "S7UFzHbrB_my"
      },
      "source": [
        "# Operator encodings\n",
        "moveWolfAccross = []\n",
        "moveSheepAccross = []\n",
        "moveCabbageAccross = []\n",
        "moveWolfBack = []\n",
        "moveSheepBack = []\n",
        "moveCabbageBack = []\n",
        "moveAccross = []\n",
        "moveBack = []"
      ],
      "execution_count": null,
      "outputs": []
    },
    {
      "cell_type": "markdown",
      "metadata": {
        "id": "pI0WQ91DCPV1"
      },
      "source": [
        "<p align = 'justify'>Formulate the pre- and post-conditions for all operators defined and add the resulting operator encodings to the CP-SAT model.</p>"
      ]
    },
    {
      "cell_type": "code",
      "metadata": {
        "id": "bmACU7g6Cj74"
      },
      "source": [
        "for t in range(maxT-1):\n",
        "  moveWolfAccross.append(model.NewBoolVar(\"MoveWolfAccross\"+str(t)))\n",
        "  moveSheepAccross.append(model.NewBoolVar(\"MoveSheepAccross\"+str(t)))\n",
        "  moveCabbageAccross.append(model.NewBoolVar(\"MoveCabbageAccross\"+str(t)))\n",
        "  moveWolfBack.append(model.NewBoolVar(\"MoveWolfBack\"+str(t)))\n",
        "  moveSheepBack.append(model.NewBoolVar(\"MoveSheepBack\"+str(t)))\n",
        "  moveCabbageBack.append(model.NewBoolVar(\"MoveCabbageBack\"+str(t)))\n",
        "  moveAccross.append(model.NewBoolVar(\"MoveAccross\"+str(t)))\n",
        "  moveBack.append(model.NewBoolVar(\"MoveBack\"+str(t)))\n",
        "  \n",
        "  model.AddBoolAnd([WolfOnThisSide[t],FerrymanOnThisSide[t],\n",
        "                    WolfOnOppositeSide[t+1], FerrymanOnOppositeSide[t+1], \n",
        "                    WolfOnThisSide[t+1].Not(), FerrymanOnThisSide[t+1].Not()\n",
        "                    ]).OnlyEnforceIf(moveWolfAccross[t])\n",
        "  model.AddBoolAnd([WolfOnOppositeSide[t], FerrymanOnOppositeSide[t],\n",
        "                    WolfOnThisSide[t+1], FerrymanOnThisSide[t+1], \n",
        "                    WolfOnOppositeSide[t+1].Not(), FerrymanOnOppositeSide[t+1].Not()\n",
        "                    ]).OnlyEnforceIf(moveWolfBack[t])\n",
        "  model.AddBoolAnd([SheepOnThisSide[t], FerrymanOnThisSide[t],\n",
        "                    SheepOnOppositeSide[t+1], FerrymanOnOppositeSide[t+1], SheepOnThisSide[t+1].Not(), FerrymanOnThisSide[t+1].Not()\n",
        "                    ]).OnlyEnforceIf(moveSheepAccross[t])\n",
        "  model.AddBoolAnd([SheepOnOppositeSide[t], FerrymanOnOppositeSide[t],\n",
        "                    SheepOnThisSide[t+1], FerrymanOnThisSide[t+1], SheepOnOppositeSide[t+1].Not(), FerrymanOnOppositeSide[t+1].Not()\n",
        "                    ]).OnlyEnforceIf(moveSheepBack[t])\n",
        "\n",
        "  model.AddBoolAnd([CabbageOnThisSide[t], FerrymanOnThisSide[t],\n",
        "                    CabbageOnOppositeSide[t+1], FerrymanOnOppositeSide[t+1], CabbageOnThisSide[t+1].Not(), FerrymanOnThisSide[t+1].Not()\n",
        "                    ]).OnlyEnforceIf(moveCabbageAccross[t])\n",
        "  \n",
        "  model.AddBoolAnd([CabbageOnOppositeSide[t], FerrymanOnOppositeSide[t],\n",
        "                    CabbageOnThisSide[t+1], FerrymanOnThisSide[t+1], CabbageOnOppositeSide[t+1].Not(), FerrymanOnOppositeSide[t+1].Not()\n",
        "                    ]).OnlyEnforceIf(moveCabbageBack[t])\n",
        "                    \n",
        "  model.AddBoolAnd([FerrymanOnThisSide[t],\n",
        "                    FerrymanOnOppositeSide[t+1], FerrymanOnThisSide[t+1].Not()\n",
        "                    ]).OnlyEnforceIf(moveAccross[t])\n",
        "  model.AddBoolAnd([FerrymanOnOppositeSide[t],\n",
        "                    FerrymanOnThisSide[t+1], FerrymanOnOppositeSide[t+1].Not()\n",
        "                    ]).OnlyEnforceIf(moveBack[t])  "
      ],
      "execution_count": null,
      "outputs": []
    },
    {
      "cell_type": "markdown",
      "metadata": {
        "id": "L4UYQVxeG-r3"
      },
      "source": [
        "Formulate the frame axioms for the predicates defined earlier and add them as constraints to the CP-SAT model."
      ]
    },
    {
      "cell_type": "code",
      "metadata": {
        "id": "dHF24DgJDiDl"
      },
      "source": [
        "# Frame axioms (no state is switched on without an action)\n",
        "for t in range(maxT-1):\n",
        "  model.AddBoolOr([WolfOnThisSide[t+1].Not(), WolfOnThisSide[t], moveWolfBack[t]])\n",
        "  model.AddBoolOr([WolfOnOppositeSide[t+1].Not(), WolfOnOppositeSide[t], moveWolfAccross[t]])\n",
        "  model.AddBoolOr([SheepOnThisSide[t+1].Not(), SheepOnThisSide[t], moveSheepBack[t]])\n",
        "  model.AddBoolOr([SheepOnOppositeSide[t+1].Not(), SheepOnOppositeSide[t], moveSheepAccross[t]])\n",
        "  model.AddBoolOr([CabbageOnThisSide[t+1].Not(), CabbageOnThisSide[t], moveCabbageBack[t]])\n",
        "  model.AddBoolOr([CabbageOnOppositeSide[t+1].Not(), CabbageOnOppositeSide[t], moveCabbageAccross[t]])\n",
        "  model.AddBoolOr([FerrymanOnThisSide[t+1].Not(), \n",
        "                   FerrymanOnThisSide[t], \n",
        "                   moveWolfBack[t], \n",
        "                   moveSheepBack[t], \n",
        "                   moveCabbageBack[t], \n",
        "                   moveBack[t]])\n",
        "  model.AddBoolOr([FerrymanOnOppositeSide[t+1].Not(), \n",
        "                   FerrymanOnOppositeSide[t], \n",
        "                   moveWolfAccross[t], \n",
        "                   moveSheepAccross[t], \n",
        "                   moveCabbageAccross[t], \n",
        "                   moveAccross[t]]) "
      ],
      "execution_count": null,
      "outputs": []
    },
    {
      "cell_type": "markdown",
      "metadata": {
        "id": "QU7Ypc_cHUaB"
      },
      "source": [
        "Formulate the complete exclusion axioms for the operators defined in task 3 and add them as constraints to the CP-SAT model."
      ]
    },
    {
      "cell_type": "code",
      "metadata": {
        "id": "HBtSEak2GPPF"
      },
      "source": [
        "# Complete exclusion axiom (only one action at a time)\n",
        "for t in range(maxT-1):\n",
        "  model.AddBoolOr([moveWolfAccross[t].Not(), moveSheepAccross[t].Not()])\n",
        "  model.AddBoolOr([moveWolfAccross[t].Not(), moveCabbageAccross[t].Not()])\n",
        "  model.AddBoolOr([moveWolfAccross[t].Not(), moveWolfBack[t].Not()])\n",
        "  model.AddBoolOr([moveWolfAccross[t].Not(), moveSheepBack[t].Not()])\n",
        "  model.AddBoolOr([moveWolfAccross[t].Not(), moveCabbageBack[t].Not()])\n",
        "  model.AddBoolOr([moveWolfAccross[t].Not(), moveAccross[t].Not()])\n",
        "  model.AddBoolOr([moveWolfAccross[t].Not(), moveBack[t].Not()])\n",
        "  model.AddBoolOr([moveSheepAccross[t].Not(), moveCabbageAccross[t].Not()])\n",
        "  model.AddBoolOr([moveSheepAccross[t].Not(), moveWolfBack[t].Not()])\n",
        "  model.AddBoolOr([moveSheepAccross[t].Not(), moveSheepBack[t].Not()])\n",
        "  model.AddBoolOr([moveSheepAccross[t].Not(), moveCabbageBack[t].Not()])\n",
        "  model.AddBoolOr([moveSheepAccross[t].Not(), moveAccross[t].Not()])\n",
        "  model.AddBoolOr([moveSheepAccross[t].Not(), moveBack[t].Not()])\n",
        "  model.AddBoolOr([moveCabbageAccross[t].Not(), moveWolfBack[t].Not()])\n",
        "  model.AddBoolOr([moveCabbageAccross[t].Not(), moveSheepBack[t].Not()])\n",
        "  model.AddBoolOr([moveCabbageAccross[t].Not(), moveCabbageBack[t].Not()])\n",
        "  model.AddBoolOr([moveCabbageAccross[t].Not(), moveAccross[t].Not()])\n",
        "  model.AddBoolOr([moveCabbageAccross[t].Not(), moveBack[t].Not()])\n",
        "  model.AddBoolOr([moveWolfBack[t].Not(), moveSheepBack[t].Not()])\n",
        "  model.AddBoolOr([moveWolfBack[t].Not(), moveCabbageBack[t].Not()])\n",
        "  model.AddBoolOr([moveWolfBack[t].Not(), moveAccross[t].Not()])\n",
        "  model.AddBoolOr([moveWolfBack[t].Not(), moveBack[t].Not()])\n",
        "  model.AddBoolOr([moveSheepBack[t].Not(), moveCabbageBack[t].Not()])\n",
        "  model.AddBoolOr([moveSheepBack[t].Not(), moveAccross[t].Not()])\n",
        "  model.AddBoolOr([moveSheepBack[t].Not(), moveBack[t].Not()])\n",
        "  model.AddBoolOr([moveCabbageBack[t].Not(), moveAccross[t].Not()])\n",
        "  model.AddBoolOr([moveCabbageBack[t].Not(), moveBack[t].Not()])\n",
        "  model.AddBoolOr([moveAccross[t].Not(), moveBack[t].Not()])"
      ],
      "execution_count": null,
      "outputs": []
    },
    {
      "cell_type": "markdown",
      "metadata": {
        "id": "0-tBy-ZoH4u9"
      },
      "source": [
        "Formulate the additional constraints that neither the wolf and the sheep nor the sheep and the cabbage can ever be left alone and add them as constraints to the CP-SAT model."
      ]
    },
    {
      "cell_type": "code",
      "metadata": {
        "id": "shSqhAVpGsPn"
      },
      "source": [
        "# Additional constraints (wolf eats sheep, sheep eats cabbage)\n",
        "for t in range(maxT):\n",
        "  model.AddBoolOr([WolfOnThisSide[t].Not(),\n",
        "                   SheepOnThisSide[t].Not()]).OnlyEnforceIf(FerrymanOnThisSide[t].Not())\n",
        "  model.AddBoolOr([WolfOnOppositeSide[t].Not(),\n",
        "                   SheepOnOppositeSide[t].Not()]).OnlyEnforceIf(FerrymanOnOppositeSide[t].Not())\n",
        "  model.AddBoolOr([SheepOnThisSide[t].Not(), \n",
        "                   CabbageOnThisSide[t].Not()]).OnlyEnforceIf(FerrymanOnThisSide[t].Not())\n",
        "  model.AddBoolOr([SheepOnOppositeSide[t].Not(),\n",
        "                   CabbageOnOppositeSide[t].Not()]).OnlyEnforceIf(FerrymanOnOppositeSide[t].Not())"
      ],
      "execution_count": null,
      "outputs": []
    },
    {
      "cell_type": "code",
      "metadata": {
        "id": "J1eZOf4OHbZ8"
      },
      "source": [
        "variables = []"
      ],
      "execution_count": null,
      "outputs": []
    },
    {
      "cell_type": "code",
      "metadata": {
        "id": "Sharp8cDHcTQ"
      },
      "source": [
        "for t in range(maxT-1):\n",
        "  variables.append(\n",
        "      {\n",
        "       # \"Ferryman on this side\": FerrymanOnThisSide[t],\n",
        "       # \"Ferryman on opposite side\": FerrymanOnOppositeSide[t],\n",
        "       # \"Wolf on this side\": WolfOnThisSide[t],\n",
        "       # \"Wolf on opposite side\": WolfOnOppositeSide[t],\n",
        "       # \"Sheep on this side\": SheepOnThisSide[t],\n",
        "       # \"Sheep on opposite side\": SheepOnOppositeSide[t],\n",
        "       # \"Cabbagge on this side\": CabbageOnThisSide[t],\n",
        "       # \"Cabbage on opposite side\": CabbageOnOppositeSide[t],\n",
        "       \"move accross\":moveAccross[t],\n",
        "       \"move back\":moveBack[t],\n",
        "       \"move wolf accross\":moveWolfAccross[t],\n",
        "       \"move wolf back\":moveWolfBack[t],\n",
        "       \"move sheep accross\":moveSheepAccross[t],\n",
        "       \"move sheep back\": moveSheepBack[t],\n",
        "       \"move cabbage accross\": moveCabbageAccross[t],\n",
        "       \"move cabbage back\": moveCabbageBack[t]              \n",
        "       })"
      ],
      "execution_count": null,
      "outputs": []
    },
    {
      "cell_type": "markdown",
      "metadata": {
        "id": "pRXASrn6IAtt"
      },
      "source": [
        "Implement a CpSolverSolutionCallback that prints out the sequence of operations indicated by the variables identified earlier and run the solver for the model and print out the results."
      ]
    },
    {
      "cell_type": "code",
      "metadata": {
        "id": "gs5SRrZ4IH4E",
        "outputId": "4665ab12-e7d4-47f9-93da-5979f32b9e39",
        "colab": {
          "base_uri": "https://localhost:8080/",
          "height": 340
        }
      },
      "source": [
        "solver = cp_model.CpSolver()    \n",
        "solver.SearchForAllSolutions(model, SolutionPrinter(variables))"
      ],
      "execution_count": null,
      "outputs": [
        {
          "output_type": "stream",
          "text": [
            "solution 1\n",
            "    move sheep accross\n",
            "    move back\n",
            "    move wolf accross\n",
            "    move sheep back\n",
            "    move cabbage accross\n",
            "    move back\n",
            "    move sheep accross\n",
            "\n",
            "solution 2\n",
            "    move sheep accross\n",
            "    move back\n",
            "    move cabbage accross\n",
            "    move sheep back\n",
            "    move wolf accross\n",
            "    move back\n",
            "    move sheep accross\n",
            "\n"
          ],
          "name": "stdout"
        },
        {
          "output_type": "execute_result",
          "data": {
            "text/plain": [
              "4"
            ]
          },
          "metadata": {
            "tags": []
          },
          "execution_count": 24
        }
      ]
    },
    {
      "cell_type": "code",
      "metadata": {
        "id": "3Y1CDdfFIKmY",
        "outputId": "2b8e6489-b3a5-4298-db08-d90a90e4cfbf",
        "colab": {
          "base_uri": "https://localhost:8080/",
          "height": 136
        }
      },
      "source": [
        "for t in range(maxT-1):\n",
        "  if solver.Value(moveWolfAccross[t]): print(t, \">> move wolf accross\")\n",
        "  if solver.Value(moveWolfBack[t]): print(t, \">> move wolf back\")\n",
        "  if solver.Value(moveSheepAccross[t]): print(t, \">> move sheep accross\")\n",
        "  if solver.Value(moveSheepBack[t]): print(t, \">> move sheep back\")\n",
        "  if solver.Value(moveCabbageAccross[t]): print(t, \">> move cabbage accross\")\n",
        "  if solver.Value(moveCabbageBack[t]): print(t, \">> move cabbage back\")\n",
        "  if solver.Value(moveAccross[t]): print(t, \">> move accross\")\n",
        "  if solver.Value(moveBack[t]): print(t, \">> move back\")"
      ],
      "execution_count": null,
      "outputs": [
        {
          "output_type": "stream",
          "text": [
            "0 >> move sheep accross\n",
            "1 >> move back\n",
            "2 >> move cabbage accross\n",
            "3 >> move sheep back\n",
            "4 >> move wolf accross\n",
            "5 >> move back\n",
            "6 >> move sheep accross\n"
          ],
          "name": "stdout"
        }
      ]
    }
  ]
}