{
  "nbformat": 4,
  "nbformat_minor": 0,
  "metadata": {
    "colab": {
      "name": "02. Google OR Tools for the knapsack problem.ipynb",
      "provenance": [],
      "collapsed_sections": [],
      "authorship_tag": "ABX9TyO95+6cPaEfRqZJc+Ag5Ebx",
      "include_colab_link": true
    },
    "kernelspec": {
      "name": "python3",
      "display_name": "Python 3"
    }
  },
  "cells": [
    {
      "cell_type": "markdown",
      "metadata": {
        "id": "view-in-github",
        "colab_type": "text"
      },
      "source": [
        "<a href=\"https://colab.research.google.com/github/raj-vijay/da/blob/master/02_CP-SAT_Google_OR_Tools_knapsack_problem.ipynb\" target=\"_parent\"><img src=\"https://colab.research.google.com/assets/colab-badge.svg\" alt=\"Open In Colab\"/></a>"
      ]
    },
    {
      "cell_type": "markdown",
      "metadata": {
        "id": "aT1qD64ECiTb"
      },
      "source": [
        "DECISION ANALYTICS - Lab01: Google OR Tools"
      ]
    },
    {
      "cell_type": "markdown",
      "metadata": {
        "id": "bLLyPHpHCeln"
      },
      "source": [
        "**BACKGROUND**\n",
        "\n",
        "<p align = 'justify'>Here we look at the knapsack problem. The goal is to find the most valuable combination of items to pack without exceeding the weight capacity limit. \n",
        "\n",
        "Consider the following specific instance:\n",
        "- The capacity limit of the knapsack is 15kg\n",
        "- There are 5 items as depicted in the picture to the right\n",
        "- Each of the 5 items has a weight and a value printed on the box in the picture to the right\n",
        "\n",
        "(Remark: The Google OR Tools contain an optimised Knapsack solver for this problem domain. But, we do NOT use this dedicated solver for the exercise but use the generic CP-SAT solver instead.)</p>"
      ]
    },
    {
      "cell_type": "code",
      "metadata": {
        "id": "DGfjU6kUDWMC",
        "outputId": "0a07cc17-2239-4b7c-ff3d-c3542222ac98",
        "colab": {
          "base_uri": "https://localhost:8080/",
          "height": 173
        }
      },
      "source": [
        "!pip install ortools"
      ],
      "execution_count": null,
      "outputs": [
        {
          "output_type": "stream",
          "text": [
            "Collecting ortools\n",
            "\u001b[?25l  Downloading https://files.pythonhosted.org/packages/6c/e9/57ee68e41e02b00836dbe61a4f9679c953623168dcca3a84e2cd16a3e9b2/ortools-7.8.7959-cp36-cp36m-manylinux1_x86_64.whl (32.7MB)\n",
            "\u001b[K     |████████████████████████████████| 32.7MB 120kB/s \n",
            "\u001b[?25hRequirement already satisfied: protobuf>=3.12.2 in /usr/local/lib/python3.6/dist-packages (from ortools) (3.12.4)\n",
            "Requirement already satisfied: six>=1.10 in /usr/local/lib/python3.6/dist-packages (from ortools) (1.15.0)\n",
            "Requirement already satisfied: setuptools in /usr/local/lib/python3.6/dist-packages (from protobuf>=3.12.2->ortools) (50.3.0)\n",
            "Installing collected packages: ortools\n",
            "Successfully installed ortools-7.8.7959\n"
          ],
          "name": "stdout"
        }
      ]
    },
    {
      "cell_type": "code",
      "metadata": {
        "id": "QuldqqYVCEEs"
      },
      "source": [
        "from ortools.sat.python import cp_model"
      ],
      "execution_count": null,
      "outputs": []
    },
    {
      "cell_type": "code",
      "metadata": {
        "id": "tUW8vs-mDbfJ"
      },
      "source": [
        "class SolutionPrinter(cp_model.CpSolverSolutionCallback):\n",
        "    def __init__(self, items, in_knapsack, total_weight, total_value):\n",
        "        cp_model.CpSolverSolutionCallback.__init__(self)\n",
        "        self.items_ = items\n",
        "        self.in_knapsack_ = in_knapsack\n",
        "        self.total_weight_ = total_weight\n",
        "        self.total_value_ = total_value\n",
        "\n",
        "    def OnSolutionCallback(self):        \n",
        "        print(\"Feasible solution:\")\n",
        "        for i in range(0,len(self.items_)):        \n",
        "            if self.Value(self.in_knapsack_[i]):            \n",
        "                print(\"  - Pack item \"+str(i)+\" (weight=\"+str(self.items_[i][0])+\",value=\"+str(self.items_[i][1])+\")\")\n",
        "        print(\"  - Total weight: \"+str(self.Value(self.total_weight_)))\n",
        "        print(\"  - Total value: \"+str(self.Value(self.total_value_)))"
      ],
      "execution_count": null,
      "outputs": []
    },
    {
      "cell_type": "code",
      "metadata": {
        "id": "p4gKeQRkDjGZ"
      },
      "source": [
        "model = cp_model.CpModel()"
      ],
      "execution_count": null,
      "outputs": []
    },
    {
      "cell_type": "code",
      "metadata": {
        "id": "byVRoPgDEKeh"
      },
      "source": [
        "knapsack_size = 15\n",
        "items = [(12,4),(2,2),(2,1),(1,1),(4,10)]"
      ],
      "execution_count": null,
      "outputs": []
    },
    {
      "cell_type": "code",
      "metadata": {
        "id": "vksZdje6EOv5"
      },
      "source": [
        "# knapsack_size = 10\n",
        "# items = [(9,1),(2,1),(3,1)]"
      ],
      "execution_count": null,
      "outputs": []
    },
    {
      "cell_type": "code",
      "metadata": {
        "id": "g1mHuCBiEVFZ"
      },
      "source": [
        "in_knapsack = []\n",
        "weight_in_knapsack = []\n",
        "value_in_knapsack = []"
      ],
      "execution_count": null,
      "outputs": []
    },
    {
      "cell_type": "code",
      "metadata": {
        "id": "uKg8xJnjEYaY"
      },
      "source": [
        "for i in range(0,len(items)):\n",
        "  in_knapsack.append(model.NewBoolVar(\"item_\"+str(i)))\n",
        "  weight_in_knapsack.append(items[i][0] * in_knapsack[i])\n",
        "  value_in_knapsack.append(items[i][1] * in_knapsack[i])"
      ],
      "execution_count": null,
      "outputs": []
    },
    {
      "cell_type": "code",
      "metadata": {
        "id": "ObRkKUZEEeYQ",
        "outputId": "4e2adffe-ce7f-49b2-c004-149221ac0b06",
        "colab": {
          "base_uri": "https://localhost:8080/",
          "height": 34
        }
      },
      "source": [
        "total_weight = sum(weight_in_knapsack)\n",
        "model.Add(total_weight <= knapsack_size)"
      ],
      "execution_count": null,
      "outputs": [
        {
          "output_type": "execute_result",
          "data": {
            "text/plain": [
              "<ortools.sat.python.cp_model.Constraint at 0x7fbc3de5b588>"
            ]
          },
          "metadata": {
            "tags": []
          },
          "execution_count": 10
        }
      ]
    },
    {
      "cell_type": "code",
      "metadata": {
        "id": "8-UmlZ4sEiuC"
      },
      "source": [
        "total_value = sum(value_in_knapsack)"
      ],
      "execution_count": null,
      "outputs": []
    },
    {
      "cell_type": "markdown",
      "metadata": {
        "id": "opfnj23cC8xr"
      },
      "source": [
        "**Task 1**\n",
        "\n",
        "<p align = 'justify'>Use the CP-SAT solver to find all feasible solutions to the above knapsack problem, i.e. all possible packing combinations for the 5 items that do not exceed the capacity limit of 15kg .\n",
        "\n",
        "(Hint: Use 5 Boolean variables to indicate if an item is in the knapsack or not.</p>"
      ]
    },
    {
      "cell_type": "code",
      "metadata": {
        "id": "vWnypK7QFRvZ"
      },
      "source": [
        "solver = cp_model.CpSolver()"
      ],
      "execution_count": null,
      "outputs": []
    },
    {
      "cell_type": "code",
      "metadata": {
        "id": "2m7Yx-79FWlR",
        "outputId": "1edb0903-9b86-472a-fa25-7ad82c9fe360",
        "colab": {
          "base_uri": "https://localhost:8080/",
          "height": 1000
        }
      },
      "source": [
        "solver.SearchForAllSolutions(model, SolutionPrinter(items, in_knapsack, total_weight, total_value))"
      ],
      "execution_count": null,
      "outputs": [
        {
          "output_type": "stream",
          "text": [
            "Feasible solution:\n",
            "  - Total weight: 0\n",
            "  - Total value: 0\n",
            "Feasible solution:\n",
            "  - Pack item 1 (weight=2,value=2)\n",
            "  - Total weight: 2\n",
            "  - Total value: 2\n",
            "Feasible solution:\n",
            "  - Pack item 1 (weight=2,value=2)\n",
            "  - Pack item 2 (weight=2,value=1)\n",
            "  - Total weight: 4\n",
            "  - Total value: 3\n",
            "Feasible solution:\n",
            "  - Pack item 2 (weight=2,value=1)\n",
            "  - Total weight: 2\n",
            "  - Total value: 1\n",
            "Feasible solution:\n",
            "  - Pack item 2 (weight=2,value=1)\n",
            "  - Pack item 3 (weight=1,value=1)\n",
            "  - Total weight: 3\n",
            "  - Total value: 2\n",
            "Feasible solution:\n",
            "  - Pack item 1 (weight=2,value=2)\n",
            "  - Pack item 2 (weight=2,value=1)\n",
            "  - Pack item 3 (weight=1,value=1)\n",
            "  - Total weight: 5\n",
            "  - Total value: 4\n",
            "Feasible solution:\n",
            "  - Pack item 1 (weight=2,value=2)\n",
            "  - Pack item 3 (weight=1,value=1)\n",
            "  - Total weight: 3\n",
            "  - Total value: 3\n",
            "Feasible solution:\n",
            "  - Pack item 3 (weight=1,value=1)\n",
            "  - Total weight: 1\n",
            "  - Total value: 1\n",
            "Feasible solution:\n",
            "  - Pack item 3 (weight=1,value=1)\n",
            "  - Pack item 4 (weight=4,value=10)\n",
            "  - Total weight: 5\n",
            "  - Total value: 11\n",
            "Feasible solution:\n",
            "  - Pack item 1 (weight=2,value=2)\n",
            "  - Pack item 3 (weight=1,value=1)\n",
            "  - Pack item 4 (weight=4,value=10)\n",
            "  - Total weight: 7\n",
            "  - Total value: 13\n",
            "Feasible solution:\n",
            "  - Pack item 1 (weight=2,value=2)\n",
            "  - Pack item 2 (weight=2,value=1)\n",
            "  - Pack item 3 (weight=1,value=1)\n",
            "  - Pack item 4 (weight=4,value=10)\n",
            "  - Total weight: 9\n",
            "  - Total value: 14\n",
            "Feasible solution:\n",
            "  - Pack item 2 (weight=2,value=1)\n",
            "  - Pack item 3 (weight=1,value=1)\n",
            "  - Pack item 4 (weight=4,value=10)\n",
            "  - Total weight: 7\n",
            "  - Total value: 12\n",
            "Feasible solution:\n",
            "  - Pack item 2 (weight=2,value=1)\n",
            "  - Pack item 4 (weight=4,value=10)\n",
            "  - Total weight: 6\n",
            "  - Total value: 11\n",
            "Feasible solution:\n",
            "  - Pack item 1 (weight=2,value=2)\n",
            "  - Pack item 2 (weight=2,value=1)\n",
            "  - Pack item 4 (weight=4,value=10)\n",
            "  - Total weight: 8\n",
            "  - Total value: 13\n",
            "Feasible solution:\n",
            "  - Pack item 1 (weight=2,value=2)\n",
            "  - Pack item 4 (weight=4,value=10)\n",
            "  - Total weight: 6\n",
            "  - Total value: 12\n",
            "Feasible solution:\n",
            "  - Pack item 4 (weight=4,value=10)\n",
            "  - Total weight: 4\n",
            "  - Total value: 10\n",
            "Feasible solution:\n",
            "  - Pack item 0 (weight=12,value=4)\n",
            "  - Total weight: 12\n",
            "  - Total value: 4\n",
            "Feasible solution:\n",
            "  - Pack item 0 (weight=12,value=4)\n",
            "  - Pack item 2 (weight=2,value=1)\n",
            "  - Total weight: 14\n",
            "  - Total value: 5\n",
            "Feasible solution:\n",
            "  - Pack item 0 (weight=12,value=4)\n",
            "  - Pack item 2 (weight=2,value=1)\n",
            "  - Pack item 3 (weight=1,value=1)\n",
            "  - Total weight: 15\n",
            "  - Total value: 6\n",
            "Feasible solution:\n",
            "  - Pack item 0 (weight=12,value=4)\n",
            "  - Pack item 3 (weight=1,value=1)\n",
            "  - Total weight: 13\n",
            "  - Total value: 5\n",
            "Feasible solution:\n",
            "  - Pack item 0 (weight=12,value=4)\n",
            "  - Pack item 1 (weight=2,value=2)\n",
            "  - Pack item 3 (weight=1,value=1)\n",
            "  - Total weight: 15\n",
            "  - Total value: 7\n",
            "Feasible solution:\n",
            "  - Pack item 0 (weight=12,value=4)\n",
            "  - Pack item 1 (weight=2,value=2)\n",
            "  - Total weight: 14\n",
            "  - Total value: 6\n"
          ],
          "name": "stdout"
        },
        {
          "output_type": "execute_result",
          "data": {
            "text/plain": [
              "4"
            ]
          },
          "metadata": {
            "tags": []
          },
          "execution_count": 14
        }
      ]
    },
    {
      "cell_type": "markdown",
      "metadata": {
        "id": "3f4J-84CF98Q"
      },
      "source": [
        "**Task 2**\n",
        "\n",
        "<p align = 'justify'>Use the CP-SAT solver to find the optimal solution to the above problem that maximises the value of the items carried in the knapsack without exceeding the 15kg capacity limit.</p>"
      ]
    },
    {
      "cell_type": "code",
      "metadata": {
        "id": "nPBPRFJ0Feto"
      },
      "source": [
        "model.Maximize(total_value)"
      ],
      "execution_count": null,
      "outputs": []
    },
    {
      "cell_type": "code",
      "metadata": {
        "id": "ys8M3PULFoTY",
        "outputId": "7f0788b0-5e74-4a9f-9dce-8b39a3f31991",
        "colab": {
          "base_uri": "https://localhost:8080/",
          "height": 34
        }
      },
      "source": [
        "status = solver.Solve(model)\n",
        "print(solver.StatusName(status))"
      ],
      "execution_count": null,
      "outputs": [
        {
          "output_type": "stream",
          "text": [
            "OPTIMAL\n"
          ],
          "name": "stdout"
        }
      ]
    },
    {
      "cell_type": "code",
      "metadata": {
        "id": "o99kMqzCFuWw",
        "outputId": "b9618a67-66d1-4f0c-e979-7a8375f88d7d",
        "colab": {
          "base_uri": "https://localhost:8080/",
          "height": 255
        }
      },
      "source": [
        "for i in range(0,len(items)):\n",
        "  if solver.Value(in_knapsack[i]):\n",
        "    print(\"Pack item \"+str(i)+\" (weight=\"+str(items[i][0])+\",value=\"+str(items[i][1])+\")\")\n",
        "  print(\"Total weight: \"+str(solver.Value(total_weight)))\n",
        "  print(\"Total value: \"+str(solver.Value(total_value)))"
      ],
      "execution_count": null,
      "outputs": [
        {
          "output_type": "stream",
          "text": [
            "Total weight: 9\n",
            "Total value: 14\n",
            "Pack item 1 (weight=2,value=2)\n",
            "Total weight: 9\n",
            "Total value: 14\n",
            "Pack item 2 (weight=2,value=1)\n",
            "Total weight: 9\n",
            "Total value: 14\n",
            "Pack item 3 (weight=1,value=1)\n",
            "Total weight: 9\n",
            "Total value: 14\n",
            "Pack item 4 (weight=4,value=10)\n",
            "Total weight: 9\n",
            "Total value: 14\n"
          ],
          "name": "stdout"
        }
      ]
    }
  ]
}