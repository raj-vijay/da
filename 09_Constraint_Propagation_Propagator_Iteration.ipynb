{
  "nbformat": 4,
  "nbformat_minor": 0,
  "metadata": {
    "colab": {
      "name": "09. Constraint Propagation – Propagator Iteration.ipynb",
      "provenance": [],
      "collapsed_sections": [],
      "authorship_tag": "ABX9TyOXp4IfKGNDHtKggNgVYxx+",
      "include_colab_link": true
    },
    "kernelspec": {
      "name": "python3",
      "display_name": "Python 3"
    }
  },
  "cells": [
    {
      "cell_type": "markdown",
      "metadata": {
        "id": "view-in-github",
        "colab_type": "text"
      },
      "source": [
        "<a href=\"https://colab.research.google.com/github/raj-vijay/da/blob/master/09_Constraint_Propagation_Propagator_Iteration.ipynb\" target=\"_parent\"><img src=\"https://colab.research.google.com/assets/colab-badge.svg\" alt=\"Open In Colab\"/></a>"
      ]
    },
    {
      "cell_type": "markdown",
      "metadata": {
        "id": "7PnohCwNi-uT"
      },
      "source": [
        "**Constraint Propagation – Propagator Iteration**"
      ]
    },
    {
      "cell_type": "markdown",
      "metadata": {
        "id": "MXUGNSJ0jDr5"
      },
      "source": [
        "**BACKGROUND**\n",
        "\n",
        "<p align = 'justify'>This section is build further on arc consistency and here we replace the AC3 algorithm with a propagator iteration approach to achieve arc consistency.</p> "
      ]
    },
    {
      "cell_type": "code",
      "metadata": {
        "id": "z5Cg6jLJi7wh"
      },
      "source": [
        "import itertools"
      ],
      "execution_count": null,
      "outputs": []
    },
    {
      "cell_type": "markdown",
      "metadata": {
        "id": "LwTF1_zqjpT5"
      },
      "source": [
        "**Task1**\n",
        "\n",
        "<p align = 'justify'>Add a class that models a Boolean conjunction constraint to the code of Lab07 similar to the Boolean disjunction function implemented in there. The conjunction class should take two conjunctions of literals 𝑐1 and 𝑐2 as input and implement the constraint 𝑐1 ⇒ 𝑐2, so that satisfiability of 𝑐2 is only enforced if the conjunction 𝑐1 is also satisfiable. This can be realised by passing four lists of Boolean variables positive, negative, onlyenforceif, onlyenforceifnot to the constructor. Make sure that both implement the same interface for the CheckConstraint(x,v) method.</p>\n"
      ]
    },
    {
      "cell_type": "code",
      "metadata": {
        "id": "KQkOhFrKjjgJ"
      },
      "source": [
        "class BoolVariable():\n",
        "    def __init__(self,name):\n",
        "        self.name_ = name\n",
        "        self.domain_ = [True,True]\n",
        "\n",
        "    def RemoveFromDomain(self,v):\n",
        "        if v:\n",
        "            self.domain_[1]=False\n",
        "        else:\n",
        "            self.domain_[0]=False            \n",
        "    \n",
        "    def GetName(self):\n",
        "        return self.name_\n",
        "    \n",
        "    def IsInList(self, list):\n",
        "        for l in list:\n",
        "            if self.name_ == l.name_:\n",
        "                return True\n",
        "        return False\n",
        "    \n",
        "    def GetValues(self):\n",
        "        values = []\n",
        "        if self.domain_[0]:\n",
        "            values.append(False)\n",
        "        if self.domain_[1]:\n",
        "            values.append(True)\n",
        "        return values"
      ],
      "execution_count": null,
      "outputs": []
    },
    {
      "cell_type": "markdown",
      "metadata": {
        "id": "B9GLqnDqjxtx"
      },
      "source": [
        "**Task 2**\n",
        "\n",
        "<p align = 'justify'>Use the model class from Lab07 and replace the AC3 algorithm by a propagator iteration based approach to make all domains of all variables in the model arc consistent. The propagator should update the domains of all variables in each iteration with the projection:</p> \n",
        "\n",
        "𝐷′′(𝑥𝑖) = 𝜋{𝑥𝑖}(𝑐𝑗 ∩ 𝜋𝑋(𝑐𝑗)(𝐷′))\n",
        "\n",
        "The result should be the same as when using the AC3 approach.\n",
        "\n",
        "<p align = 'justify'>(Again, for the purpose of using this code in a future lab exercise, please make sure that you determine equality of variables based on their names instead of their object references, i.e. for two variables x1 and x2, do not compare them with x1==x2, but rather compare them with x1.name==x2.name)</p>"
      ]
    },
    {
      "cell_type": "code",
      "metadata": {
        "id": "qc62H6L8kw4S"
      },
      "source": [
        "class Constraint():\n",
        "    def CheckConstraint(self, x,v):\n",
        "        result = False            \n",
        "        for t in self.combinations_:                                \n",
        "            is_valid = True\n",
        "            for s in self.scheme_:\n",
        "                values = s.GetValues()\n",
        "                if len(values)==1:\n",
        "                    if not ((values[0] and s.IsInList(t)) or ((not values[0]) and (not s.IsInList(t)))):\n",
        "                        is_valid = False\n",
        "            if is_valid:\n",
        "                if (v and (x.IsInList(t)) or ((not v) and (not x.IsInList(t)))):                                        \n",
        "                    result = True\n",
        "                    break\n",
        "        return result        \n",
        "\n",
        "    def Print(self):\n",
        "        for t in self.combinations_:\n",
        "            for x in self.scheme_:\n",
        "                if (x.IsInList(t)):\n",
        "                    print(x.name_, end=\",\")\n",
        "                else:\n",
        "                    print(\"not\",x.name_, end=\",\")\n",
        "            print()\n",
        "        print()"
      ],
      "execution_count": null,
      "outputs": []
    },
    {
      "cell_type": "code",
      "metadata": {
        "id": "NxASJ-HWkxqp"
      },
      "source": [
        "class OrConstraint(Constraint):\n",
        "    def __init__(self, positive, negative):\n",
        "        self.scheme_ = []\n",
        "        for p in positive:\n",
        "            self.scheme_.append(p)\n",
        "        for n in negative:\n",
        "            self.scheme_.append(n)\n",
        "        self.combinations_ = self.GetAllCombinations_(positive,negative)\n",
        "#        self.Print()\n",
        "\n",
        "    def GetAllCombinations_(self,positive,negative):        \n",
        "        result = []\n",
        "        for length in range(len(self.scheme_)+1):\n",
        "            for subset in itertools.combinations(self.scheme_,length):\n",
        "                valid = False\n",
        "                for x in self.scheme_:\n",
        "                    if x.IsInList(subset):\n",
        "                        if x.IsInList(positive):\n",
        "                            valid = True\n",
        "                            break\n",
        "                    else: \n",
        "                        if x.IsInList(negative):\n",
        "                            valid = True\n",
        "                            break\n",
        "                if valid:\n",
        "                    result.append(subset)\n",
        "        return result"
      ],
      "execution_count": null,
      "outputs": []
    },
    {
      "cell_type": "code",
      "metadata": {
        "id": "ekyMdyqSlRkJ"
      },
      "source": [
        "class AndConstraint(Constraint):\n",
        "    def __init__(self, positive, negative, onlyenforceif, onlyenforceifnot):\n",
        "        self.scheme_ = []\n",
        "        for p in positive:\n",
        "            self.scheme_.append(p)\n",
        "        for n in negative:\n",
        "            self.scheme_.append(n)\n",
        "        for p in onlyenforceif:\n",
        "            self.scheme_.append(p)\n",
        "        for n in onlyenforceifnot:\n",
        "            self.scheme_.append(n)\n",
        "        self.combinations_ = self.GetAllCombinations_(positive,negative,onlyenforceif,onlyenforceifnot)\n",
        "        # self.Print()\n",
        "\n",
        "    def GetAllCombinations_(self,positive,negative,onlyenforceif,onlyenforceifnot):        \n",
        "        result = []\n",
        "        for length in range(len(self.scheme_)+1):\n",
        "            for subset in itertools.combinations(self.scheme_,length):                \n",
        "                enforce = True\n",
        "                for x in onlyenforceif:\n",
        "                    if not x.IsInList(subset):\n",
        "                        enforce = False\n",
        "                for x in onlyenforceifnot:\n",
        "                    if x.IsInList(subset):\n",
        "                        enforce = False            \n",
        "                valid = True\n",
        "                for x in positive:\n",
        "                    if not x.IsInList(subset):\n",
        "                        valid = False\n",
        "                for x in negative:\n",
        "                    if x.IsInList(subset):\n",
        "                        valid = False\n",
        "                if not enforce or valid:\n",
        "                    result.append(subset)\n",
        "        return result\n"
      ],
      "execution_count": null,
      "outputs": []
    },
    {
      "cell_type": "code",
      "metadata": {
        "id": "ZbBqSJlklSYZ"
      },
      "source": [
        "class Model():\n",
        "    def __init__(self):\n",
        "        self.variables_ = []\n",
        "        self.constraints_ = []\n",
        "        \n",
        "    def AddBoolVariable(self, name):\n",
        "        v = BoolVariable(name)\n",
        "        self.variables_.append(v)\n",
        "        return v\n",
        "        \n",
        "    def AddOrConstraint(self, positive, negative):\n",
        "        c = OrConstraint(positive,negative)\n",
        "        self.constraints_.append(c)\n",
        "\n",
        "    def AddAndConstraint(self, positive, negative, onlyenforceif,onlyenforceifnot):\n",
        "        c = AndConstraint(positive,negative,onlyenforceif,onlyenforceifnot)\n",
        "        self.constraints_.append(c)\n",
        "\n",
        "    def PrintDomains(self):\n",
        "        for x in self.variables_:\n",
        "            print(x.GetName(), x.GetValues())\n",
        "        print()\n",
        "        \n",
        "    def PropagatorIteration(self):\n",
        "        while True:\n",
        "            change = False\n",
        "            for c in self.constraints_:\n",
        "                for x in c.scheme_:\n",
        "                    for v in x.GetValues():\n",
        "                        if not c.CheckConstraint(x,v):\n",
        "                            x.RemoveFromDomain(v)\n",
        "                            change = True\n",
        "            if not change:\n",
        "                break"
      ],
      "execution_count": null,
      "outputs": []
    },
    {
      "cell_type": "code",
      "metadata": {
        "id": "gHM5aGDllVFI"
      },
      "source": [
        "model = Model()"
      ],
      "execution_count": null,
      "outputs": []
    },
    {
      "cell_type": "code",
      "metadata": {
        "id": "ASzynMUglbsZ"
      },
      "source": [
        "x1 = model.AddBoolVariable(\"x1\")\n",
        "x2 = model.AddBoolVariable(\"x2\")\n",
        "x3 = model.AddBoolVariable(\"x3\")\n",
        "x4 = model.AddBoolVariable(\"x4\")"
      ],
      "execution_count": null,
      "outputs": []
    },
    {
      "cell_type": "code",
      "metadata": {
        "id": "gozObLeOlxfp"
      },
      "source": [
        "model.AddOrConstraint([x1,x2],[])\n",
        "model.AddOrConstraint([],[x2])\n",
        "model.AddOrConstraint([x3],[x1])\n",
        "model.AddOrConstraint([x4],[x2])"
      ],
      "execution_count": null,
      "outputs": []
    },
    {
      "cell_type": "code",
      "metadata": {
        "id": "VnzH9OKhms8Z"
      },
      "source": [
        "model.AddAndConstraint([x1],[x2,x4],[x3],[])"
      ],
      "execution_count": null,
      "outputs": []
    },
    {
      "cell_type": "code",
      "metadata": {
        "id": "2XWB0DVVmtop",
        "colab": {
          "base_uri": "https://localhost:8080/"
        },
        "outputId": "abede7ea-17b4-49eb-98bf-dfbed6a1aaff"
      },
      "source": [
        "model.PrintDomains()\n",
        "model.PropagatorIteration()    \n",
        "model.PrintDomains()"
      ],
      "execution_count": null,
      "outputs": [
        {
          "output_type": "stream",
          "text": [
            "x1 [False, True]\n",
            "x2 [False, True]\n",
            "x3 [False, True]\n",
            "x4 [False, True]\n",
            "\n",
            "x1 [True]\n",
            "x2 [False]\n",
            "x3 [True]\n",
            "x4 [False]\n",
            "\n"
          ],
          "name": "stdout"
        }
      ]
    }
  ]
}