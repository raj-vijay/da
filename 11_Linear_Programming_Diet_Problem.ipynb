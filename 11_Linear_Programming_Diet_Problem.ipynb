{
  "nbformat": 4,
  "nbformat_minor": 0,
  "metadata": {
    "colab": {
      "name": "11. Linear Programming - Diet Problem.ipynb",
      "provenance": [],
      "collapsed_sections": [],
      "authorship_tag": "ABX9TyO/9UqpDaePT4LzV7sS29ig",
      "include_colab_link": true
    },
    "kernelspec": {
      "name": "python3",
      "display_name": "Python 3"
    }
  },
  "cells": [
    {
      "cell_type": "markdown",
      "metadata": {
        "id": "view-in-github",
        "colab_type": "text"
      },
      "source": [
        "<a href=\"https://colab.research.google.com/github/raj-vijay/da/blob/master/11_Linear_Programming_Diet_Problem.ipynb\" target=\"_parent\"><img src=\"https://colab.research.google.com/assets/colab-badge.svg\" alt=\"Open In Colab\"/></a>"
      ]
    },
    {
      "cell_type": "markdown",
      "metadata": {
        "id": "T__IvV5MFmK6"
      },
      "source": [
        "**BACKGROUND**\n",
        "\n",
        "<p align = 'justify'>This exercise you will implement two models that can be solved using linear programming. First, you will look at the diet problem and compare the linear programming solution to the integer linear programming solution. In task 3 you will also implement the transport problem as linear programming model.</p>"
      ]
    },
    {
      "cell_type": "markdown",
      "metadata": {
        "id": "q0Tkzo4AFxRx"
      },
      "source": [
        "**Task 1 (diet problem)**\n",
        "\n",
        "<p align = 'justify'>Let’s assume a farmer can feed the animals using two different products, which have different nutritional composition and come at different costs as follows:</p>\n"
      ]
    },
    {
      "cell_type": "markdown",
      "metadata": {
        "id": "xQ97LxbHF5JI"
      },
      "source": [
        "| Feed | Energy | Protein | Calcium | Cost |\n",
        "| ---- | ----   | ------- | ------- | ---- |\n",
        "| A    | 2      | 5       | 4       | 9    |\n",
        "| B    | 4      | 3       | 1       | 7    |"
      ]
    },
    {
      "cell_type": "markdown",
      "metadata": {
        "id": "IQI6bEqaG96Z"
      },
      "source": [
        "<p align = 'justify'>In order to achieve the required quality of meat the farmer needs to ensure that the following minimum nutritional requirements are met:</p>\n"
      ]
    },
    {
      "cell_type": "markdown",
      "metadata": {
        "id": "RQiJ6mUTHDgw"
      },
      "source": [
        "| Energy | Protein | Calcium |\n",
        "| ------ | ------- | ------- |\n",
        "| 12     | 15      | 8       |"
      ]
    },
    {
      "cell_type": "markdown",
      "metadata": {
        "id": "qFgefjtnHTzI"
      },
      "source": [
        "<p align = 'justify'>Define a Linear Program that optimises the cost of the mixture of feeds while at the same time meeting the minimum nutritional requirements.</p>"
      ]
    },
    {
      "cell_type": "code",
      "metadata": {
        "colab": {
          "base_uri": "https://localhost:8080/",
          "height": 445
        },
        "id": "hEtl_5_VsoLn",
        "outputId": "f4804d7c-a3a0-49eb-aefb-83da02847536"
      },
      "source": [
        "!pip install ortools"
      ],
      "execution_count": null,
      "outputs": [
        {
          "output_type": "stream",
          "text": [
            "Collecting ortools\n",
            "\u001b[?25l  Downloading https://files.pythonhosted.org/packages/63/94/2832edee6f4fb4e77e8585b6034f9506be24361fe6ead4e76de38ab0a666/ortools-8.1.8487-cp36-cp36m-manylinux1_x86_64.whl (14.0MB)\n",
            "\u001b[K     |████████████████████████████████| 14.0MB 305kB/s \n",
            "\u001b[?25hCollecting protobuf>=3.14.0\n",
            "\u001b[?25l  Downloading https://files.pythonhosted.org/packages/fe/fd/247ef25f5ec5f9acecfbc98ca3c6aaf66716cf52509aca9a93583d410493/protobuf-3.14.0-cp36-cp36m-manylinux1_x86_64.whl (1.0MB)\n",
            "\u001b[K     |████████████████████████████████| 1.0MB 25.2MB/s \n",
            "\u001b[?25hCollecting absl-py>=0.11\n",
            "\u001b[?25l  Downloading https://files.pythonhosted.org/packages/bc/58/0aa6fb779dc69cfc811df3398fcbeaeefbf18561b6e36b185df0782781cc/absl_py-0.11.0-py3-none-any.whl (127kB)\n",
            "\u001b[K     |████████████████████████████████| 133kB 56.7MB/s \n",
            "\u001b[?25hRequirement already satisfied: six>=1.9 in /usr/local/lib/python3.6/dist-packages (from protobuf>=3.14.0->ortools) (1.15.0)\n",
            "\u001b[31mERROR: tensorflow-metadata 0.25.0 has requirement absl-py<0.11,>=0.9, but you'll have absl-py 0.11.0 which is incompatible.\u001b[0m\n",
            "Installing collected packages: protobuf, absl-py, ortools\n",
            "  Found existing installation: protobuf 3.12.4\n",
            "    Uninstalling protobuf-3.12.4:\n",
            "      Successfully uninstalled protobuf-3.12.4\n",
            "  Found existing installation: absl-py 0.10.0\n",
            "    Uninstalling absl-py-0.10.0:\n",
            "      Successfully uninstalled absl-py-0.10.0\n",
            "Successfully installed absl-py-0.11.0 ortools-8.1.8487 protobuf-3.14.0\n"
          ],
          "name": "stdout"
        },
        {
          "output_type": "display_data",
          "data": {
            "application/vnd.colab-display-data+json": {
              "pip_warning": {
                "packages": [
                  "google"
                ]
              }
            }
          },
          "metadata": {
            "tags": []
          }
        }
      ]
    },
    {
      "cell_type": "code",
      "metadata": {
        "id": "ybAZiJScsuQG"
      },
      "source": [
        "import pandas as pd\r\n",
        "from ortools.linear_solver import pywraplp"
      ],
      "execution_count": null,
      "outputs": []
    },
    {
      "cell_type": "code",
      "metadata": {
        "id": "XJxVg9k1su3-"
      },
      "source": [
        "def diet():\r\n",
        "    nutrition_contents = pd.DataFrame([[2,5,4,9],[4,3,1,7]], index=[\"Feed A\",\"Feed B\"], columns=[\"Energy\",\"Protein\",\"Calcium\",\"Cost\"])    \r\n",
        "    print(nutrition_contents)\r\n",
        "    print()\r\n",
        "    \r\n",
        "    nutrition_requirements = pd.Series([12,15,8], index=[\"Energy\",\"Protein\",\"Calcium\"])    \r\n",
        "    print(nutrition_requirements)\r\n",
        "    print()\r\n",
        "\r\n",
        "    feeds = set(nutrition_contents.index)\r\n",
        "    print(feeds)\r\n",
        "\r\n",
        "    requirements = set(nutrition_requirements.index)\r\n",
        "    print(requirements)\r\n",
        "    print()\r\n",
        "    \r\n",
        "    feeding_amount = {}\r\n",
        "    \r\n",
        "    MIP = False\r\n",
        "    if MIP:\r\n",
        "        solver = pywraplp.Solver('LPWrapper',\r\n",
        "                                 pywraplp.Solver.CBC_MIXED_INTEGER_PROGRAMMING)\r\n",
        "        for feed in feeds:\r\n",
        "            feeding_amount[feed] = solver.IntVar(0, solver.infinity(), feed)\r\n",
        "    else:\r\n",
        "        solver = pywraplp.Solver('LPWrapper', \r\n",
        "                             pywraplp.Solver.GLOP_LINEAR_PROGRAMMING)\r\n",
        "        for feed in feeds:\r\n",
        "            feeding_amount[feed] = solver.NumVar(0, solver.infinity(), feed)\r\n",
        "\r\n",
        "        \r\n",
        "    for requirement in requirements:\r\n",
        "        c = solver.Constraint(float(nutrition_requirements[requirement]), solver.infinity())\r\n",
        "        for feed in feeds:\r\n",
        "            c.SetCoefficient(feeding_amount[feed], float(nutrition_contents[requirement][feed]))\r\n",
        "\r\n",
        "    cost = solver.Objective()    \r\n",
        "    for feed in feeds:\r\n",
        "        cost.SetCoefficient(feeding_amount[feed], float(nutrition_contents[\"Cost\"][feed]))\r\n",
        "    cost.SetMinimization()\r\n",
        "    solver.Solve()\r\n",
        "    \r\n",
        "    total_cost = 0\r\n",
        "    for feed in feeds:\r\n",
        "        print(feed, \" -> \", feeding_amount[feed].solution_value())\r\n",
        "        total_cost += feeding_amount[feed].solution_value()*nutrition_contents[\"Cost\"][feed]\r\n",
        "    print()                \r\n",
        "    print(\"Total cost:\", total_cost)"
      ],
      "execution_count": null,
      "outputs": []
    },
    {
      "cell_type": "code",
      "metadata": {
        "colab": {
          "base_uri": "https://localhost:8080/"
        },
        "id": "QjG16nr-sx5f",
        "outputId": "c68608e5-97a2-4ee4-f86d-800b9ea1f3b4"
      },
      "source": [
        "diet()"
      ],
      "execution_count": null,
      "outputs": [
        {
          "output_type": "stream",
          "text": [
            "        Energy  Protein  Calcium  Cost\n",
            "Feed A       2        5        4     9\n",
            "Feed B       4        3        1     7\n",
            "\n",
            "Energy     12\n",
            "Protein    15\n",
            "Calcium     8\n",
            "dtype: int64\n",
            "\n",
            "{'Feed B', 'Feed A'}\n",
            "{'Protein', 'Calcium', 'Energy'}\n",
            "\n",
            "Feed B  ->  2.142857142857143\n",
            "Feed A  ->  1.714285714285714\n",
            "\n",
            "Total cost: 30.428571428571423\n"
          ],
          "name": "stdout"
        }
      ]
    },
    {
      "cell_type": "markdown",
      "metadata": {
        "id": "CmdYvO-6HaUH"
      },
      "source": [
        "**Task 2 (mixed inter programming)**\n",
        "\n",
        "<p align = 'justify'>Let’s now assume that the above problem is a once-off decision only, so it is not about determining the optimal mixture of feed products but about determining how many units of each to buy to satisfy demand. The problem then is an Integer Linear Program, with the decision variables being integers.\n",
        "\n",
        "Use a Mixed Integer Programming solver to solve the above problem and observe the difference.</p>"
      ]
    },
    {
      "cell_type": "markdown",
      "metadata": {
        "id": "yeChuBOWHycX"
      },
      "source": [
        "**Task 3 (transport problem)**\n",
        "<p align = 'justify'>Let’s assume there are two energy suppliers connected to the grid delivering the following amount of energy."
      ]
    },
    {
      "cell_type": "markdown",
      "metadata": {
        "id": "JJEK_h1FH2zo"
      },
      "source": [
        "| Supplier   | Supply |\n",
        "| ---------- | ------ |\n",
        "| Supplier A | 6      |\n",
        "| Supplier B | 9      |"
      ]
    },
    {
      "cell_type": "markdown",
      "metadata": {
        "id": "pF64ZqgPIMcI"
      },
      "source": [
        "This energy is to meet the consumer demand as follows"
      ]
    },
    {
      "cell_type": "markdown",
      "metadata": {
        "id": "wPJbn8n6IOYX"
      },
      "source": [
        "| Consumer   | Demand |\n",
        "| ---------- | ------ |\n",
        "| Consumer A | 8      |\n",
        "| Consumer B | 5      |\n",
        "| Consumer C | 2      |"
      ]
    },
    {
      "cell_type": "markdown",
      "metadata": {
        "id": "hLkdQD80IhoI"
      },
      "source": [
        "Let’s further assume the DSO of the electricity grid charges the following transmission fees"
      ]
    },
    {
      "cell_type": "markdown",
      "metadata": {
        "id": "PlnABPhBIicw"
      },
      "source": [
        "| Supplier   | Consumer A | Consumer B | Consumer C |\n",
        "| ---------- | ---------- | ---------- | ---------- |\n",
        "| Supplier A | 5          | 5          | 3          |\n",
        "| Supplier B | 6          | 4          | 1          |\n"
      ]
    },
    {
      "cell_type": "markdown",
      "metadata": {
        "id": "9fTylhP6JBW3"
      },
      "source": [
        "Define a linear program that optimises the transmission costs between energy suppliers and consumers and determine the optimal energy mix for each consumer."
      ]
    },
    {
      "cell_type": "code",
      "metadata": {
        "id": "4_Lo9lfutDNf"
      },
      "source": [
        "def transport():\r\n",
        "    transmission_costs = pd.DataFrame([[5,5,3],[6,4,1]],index=[\"Supplier A\",\"Supplier B\"], columns=[\"Consumer A\",\"Consumer B\", \"Consumer C\"])        \r\n",
        "    print(transmission_costs)\r\n",
        "    print()\r\n",
        "\r\n",
        "    supply = pd.Series([6,9],index=[\"Supplier A\",\"Supplier B\"])\r\n",
        "    print(supply)\r\n",
        "    print()\r\n",
        "\r\n",
        "    demand = pd.Series([8,5,2],index=[\"Consumer A\",\"Consumer B\", \"Consumer C\"])\r\n",
        "    print(demand)\r\n",
        "    print()\r\n",
        "\r\n",
        "        \r\n",
        "    suppliers = set(transmission_costs.index)\r\n",
        "    consumers = set(transmission_costs.columns)\r\n",
        "    \r\n",
        "    print(suppliers)\r\n",
        "    print(consumers)\r\n",
        "    print()\r\n",
        "    \r\n",
        "    solver = pywraplp.Solver('LPWrapper', \r\n",
        "                             pywraplp.Solver.GLOP_LINEAR_PROGRAMMING)\r\n",
        "\r\n",
        "    delivery = {}    \r\n",
        "    for supplier in suppliers:\r\n",
        "        for consumer in consumers:\r\n",
        "            delivery[(supplier,consumer)] = solver.NumVar(0,solver.infinity(),supplier+\"_\" +consumer)\r\n",
        "\r\n",
        "\r\n",
        "    # each supplier needs to supply all their energy\r\n",
        "    for supplier in suppliers:\r\n",
        "        c = solver.Constraint(float(supply[supplier]), solver.infinity())\r\n",
        "        for consumer in consumers:\r\n",
        "            c.SetCoefficient(delivery[(supplier,consumer)], 1)\r\n",
        "            \r\n",
        "\r\n",
        "    # each each consumer needs to have their demand met\r\n",
        "    for consumer in consumers:\r\n",
        "        c = solver.Constraint(float(demand[consumer]), solver.infinity())\r\n",
        "        for supplier in suppliers:\r\n",
        "            c.SetCoefficient(delivery[(supplier,consumer)], 1)\r\n",
        "\r\n",
        "    cost = solver.Objective()\r\n",
        "    for supplier in suppliers:\r\n",
        "        for consumer in consumers:\r\n",
        "            cost.SetCoefficient(delivery[(supplier,consumer)], float(transmission_costs[consumer][supplier]))\r\n",
        "    cost.SetMinimization()\r\n",
        "    solver.Solve()\r\n",
        "\r\n",
        "    total_cost = 0\r\n",
        "    for supplier in suppliers:\r\n",
        "        for consumer in consumers:\r\n",
        "            if delivery[(supplier,consumer)].solution_value()>0:\r\n",
        "                print(\"Delivery from\",supplier,\"to\",consumer,\"is\",delivery[(supplier,consumer)].solution_value())\r\n",
        "                total_cost += delivery[(supplier,consumer)].solution_value()*transmission_costs[consumer][supplier]\r\n",
        "    print()\r\n",
        "    print(\"Total cost:\",total_cost)"
      ],
      "execution_count": null,
      "outputs": []
    },
    {
      "cell_type": "code",
      "metadata": {
        "colab": {
          "base_uri": "https://localhost:8080/"
        },
        "id": "HFwZjYDNtEEe",
        "outputId": "a7809be6-96b1-45fc-a4f3-528b6f8f1181"
      },
      "source": [
        "transport()"
      ],
      "execution_count": null,
      "outputs": [
        {
          "output_type": "stream",
          "text": [
            "            Consumer A  Consumer B  Consumer C\n",
            "Supplier A           5           5           3\n",
            "Supplier B           6           4           1\n",
            "\n",
            "Supplier A    6\n",
            "Supplier B    9\n",
            "dtype: int64\n",
            "\n",
            "Consumer A    8\n",
            "Consumer B    5\n",
            "Consumer C    2\n",
            "dtype: int64\n",
            "\n",
            "{'Supplier A', 'Supplier B'}\n",
            "{'Consumer B', 'Consumer C', 'Consumer A'}\n",
            "\n",
            "Delivery from Supplier A to Consumer A is 8.0\n",
            "Delivery from Supplier B to Consumer B is 5.0\n",
            "Delivery from Supplier B to Consumer C is 4.0\n",
            "\n",
            "Total cost: 64.0\n"
          ],
          "name": "stdout"
        }
      ]
    }
  ]
}