{
  "nbformat": 4,
  "nbformat_minor": 0,
  "metadata": {
    "colab": {
      "name": "10. Backtracking Search.ipynb",
      "provenance": [],
      "collapsed_sections": [],
      "authorship_tag": "ABX9TyNJ+3HRHOwe/j2Ljgs6yU/t",
      "include_colab_link": true
    },
    "kernelspec": {
      "name": "python3",
      "display_name": "Python 3"
    }
  },
  "cells": [
    {
      "cell_type": "markdown",
      "metadata": {
        "id": "view-in-github",
        "colab_type": "text"
      },
      "source": [
        "<a href=\"https://colab.research.google.com/github/raj-vijay/da/blob/master/10_Backtracking_Search.ipynb\" target=\"_parent\"><img src=\"https://colab.research.google.com/assets/colab-badge.svg\" alt=\"Open In Colab\"/></a>"
      ]
    },
    {
      "cell_type": "markdown",
      "metadata": {
        "id": "N-FvqHUQoz4w"
      },
      "source": [
        "**Backtracking Search**"
      ]
    },
    {
      "cell_type": "markdown",
      "metadata": {
        "id": "Iq2i3NbWo3N_"
      },
      "source": [
        "**BACKGROUND**\n",
        "\n",
        "This exercise will build on Lab07 and Lab08 and add a backtracking search algorithm for finding all feasible solutions to a SAT problem. "
      ]
    },
    {
      "cell_type": "markdown",
      "metadata": {
        "id": "Chgx5BFQpBzg"
      },
      "source": [
        "**Task 1**\n",
        "\n",
        "<p align = 'justify'>Use the model class from Lab07 or Lab08 and add a function Search() to implement a backtracking search with integrated arc consistency checking to find all valid solutions to the SAT problem. Add and remove constraints to the model and make sure to enforce arc consistency in each node.</p>\n",
        "\n",
        "<p align ='justify'>(Hint: use copy.deepcopy to create copies of the model when branching and backtracking; now you need to make sure that variables are not compared by references but using their names in the constraint propagation, as the deep copy will make a copy of the variables)</p>\n"
      ]
    },
    {
      "cell_type": "markdown",
      "metadata": {
        "id": "LkJ9qZhYpv_4"
      },
      "source": [
        "**Task 2**\n",
        "\n",
        "<p align = 'justify'>Create a model for the N-queens problem and solve the problem using the SAT solver implemented in task 1.</p>"
      ]
    },
    {
      "cell_type": "code",
      "metadata": {
        "colab": {
          "base_uri": "https://localhost:8080/",
          "height": 445
        },
        "id": "UBEXHHTvrngn",
        "outputId": "fb0673d1-f21d-46ba-d097-72cd682ccc14"
      },
      "source": [
        "!pip install ortools"
      ],
      "execution_count": null,
      "outputs": [
        {
          "output_type": "stream",
          "text": [
            "Collecting ortools\n",
            "\u001b[?25l  Downloading https://files.pythonhosted.org/packages/63/94/2832edee6f4fb4e77e8585b6034f9506be24361fe6ead4e76de38ab0a666/ortools-8.1.8487-cp36-cp36m-manylinux1_x86_64.whl (14.0MB)\n",
            "\u001b[K     |████████████████████████████████| 14.0MB 263kB/s \n",
            "\u001b[?25hCollecting protobuf>=3.14.0\n",
            "\u001b[?25l  Downloading https://files.pythonhosted.org/packages/fe/fd/247ef25f5ec5f9acecfbc98ca3c6aaf66716cf52509aca9a93583d410493/protobuf-3.14.0-cp36-cp36m-manylinux1_x86_64.whl (1.0MB)\n",
            "\u001b[K     |████████████████████████████████| 1.0MB 45.8MB/s \n",
            "\u001b[?25hCollecting absl-py>=0.11\n",
            "\u001b[?25l  Downloading https://files.pythonhosted.org/packages/bc/58/0aa6fb779dc69cfc811df3398fcbeaeefbf18561b6e36b185df0782781cc/absl_py-0.11.0-py3-none-any.whl (127kB)\n",
            "\u001b[K     |████████████████████████████████| 133kB 46.8MB/s \n",
            "\u001b[?25hRequirement already satisfied: six>=1.9 in /usr/local/lib/python3.6/dist-packages (from protobuf>=3.14.0->ortools) (1.15.0)\n",
            "\u001b[31mERROR: tensorflow-metadata 0.25.0 has requirement absl-py<0.11,>=0.9, but you'll have absl-py 0.11.0 which is incompatible.\u001b[0m\n",
            "Installing collected packages: protobuf, absl-py, ortools\n",
            "  Found existing installation: protobuf 3.12.4\n",
            "    Uninstalling protobuf-3.12.4:\n",
            "      Successfully uninstalled protobuf-3.12.4\n",
            "  Found existing installation: absl-py 0.10.0\n",
            "    Uninstalling absl-py-0.10.0:\n",
            "      Successfully uninstalled absl-py-0.10.0\n",
            "Successfully installed absl-py-0.11.0 ortools-8.1.8487 protobuf-3.14.0\n"
          ],
          "name": "stdout"
        },
        {
          "output_type": "display_data",
          "data": {
            "application/vnd.colab-display-data+json": {
              "pip_warning": {
                "packages": [
                  "google"
                ]
              }
            }
          },
          "metadata": {
            "tags": []
          }
        }
      ]
    },
    {
      "cell_type": "code",
      "metadata": {
        "id": "7EkeywborwtW"
      },
      "source": [
        "import copy\r\n",
        "import itertools"
      ],
      "execution_count": null,
      "outputs": []
    },
    {
      "cell_type": "code",
      "metadata": {
        "id": "g0ryY-d_rxcu"
      },
      "source": [
        "class BoolVariable():\r\n",
        "    def __init__(self,name):\r\n",
        "        self.name_ = name\r\n",
        "        self.domain_ = [True,True]\r\n",
        "\r\n",
        "    def RemoveFromDomain(self,v):\r\n",
        "        if v:\r\n",
        "            self.domain_[1]=False\r\n",
        "        else:\r\n",
        "            self.domain_[0]=False            \r\n",
        "    \r\n",
        "    def GetName(self):\r\n",
        "        return self.name_\r\n",
        "    \r\n",
        "    def IsInList(self, list):\r\n",
        "        for l in list:\r\n",
        "            if self.name_ == l.name_:\r\n",
        "                return True\r\n",
        "        return False\r\n",
        "    \r\n",
        "    def GetValues(self):\r\n",
        "        values = []\r\n",
        "        if self.domain_[0]:\r\n",
        "            values.append(False)\r\n",
        "        if self.domain_[1]:\r\n",
        "            values.append(True)\r\n",
        "        return values"
      ],
      "execution_count": null,
      "outputs": []
    },
    {
      "cell_type": "code",
      "metadata": {
        "id": "YxdHB-RArz5H"
      },
      "source": [
        "class Constraint():\r\n",
        "    def CheckConstraint(self, x,v):\r\n",
        "        result = False            \r\n",
        "        for t in self.combinations_:                                \r\n",
        "            is_valid = True\r\n",
        "            for s in self.scheme_:\r\n",
        "                values = s.GetValues()\r\n",
        "                if len(values)==1:\r\n",
        "                    if not ((values[0] and s.IsInList(t)) or ((not values[0]) and (not s.IsInList(t)))):\r\n",
        "                        is_valid = False\r\n",
        "            if is_valid:\r\n",
        "                if (v and (x.IsInList(t)) or ((not v) and (not x.IsInList(t)))):                                        \r\n",
        "                    result = True\r\n",
        "                    break\r\n",
        "        return result        \r\n",
        "\r\n",
        "    def Print(self):\r\n",
        "        for t in self.combinations_:\r\n",
        "            for x in self.scheme_:\r\n",
        "                if (x.IsInList(t)):\r\n",
        "                    print(x.name_, end=\",\")\r\n",
        "                else:\r\n",
        "                    print(\"not\",x.name_, end=\",\")\r\n",
        "            print()\r\n",
        "        print()"
      ],
      "execution_count": null,
      "outputs": []
    },
    {
      "cell_type": "code",
      "metadata": {
        "id": "txQdmtvsr4KA"
      },
      "source": [
        "class OrConstraint(Constraint):\r\n",
        "    def __init__(self, positive, negative):\r\n",
        "        self.scheme_ = []\r\n",
        "        for p in positive:\r\n",
        "            self.scheme_.append(p)\r\n",
        "        for n in negative:\r\n",
        "            self.scheme_.append(n)\r\n",
        "        self.combinations_ = self.GetAllCombinations_(positive,negative)\r\n",
        "#        self.Print()\r\n",
        "\r\n",
        "    def GetAllCombinations_(self,positive,negative):        \r\n",
        "        result = []\r\n",
        "        for length in range(len(self.scheme_)+1):\r\n",
        "            for subset in itertools.combinations(self.scheme_,length):\r\n",
        "                valid = False\r\n",
        "                for x in self.scheme_:\r\n",
        "                    if x.IsInList(subset):\r\n",
        "                        if x.IsInList(positive):\r\n",
        "                            valid = True\r\n",
        "                            break\r\n",
        "                    else: \r\n",
        "                        if x.IsInList(negative):\r\n",
        "                            valid = True\r\n",
        "                            break\r\n",
        "                if valid:\r\n",
        "                    result.append(subset)\r\n",
        "        return result"
      ],
      "execution_count": null,
      "outputs": []
    },
    {
      "cell_type": "code",
      "metadata": {
        "id": "lG30lxugr7NG"
      },
      "source": [
        "class AndConstraint(Constraint):\r\n",
        "    def __init__(self, positive, negative, onlyenforceif, onlyenforceifnot):\r\n",
        "        self.scheme_ = []\r\n",
        "        for p in positive:\r\n",
        "            self.scheme_.append(p)\r\n",
        "        for n in negative:\r\n",
        "            self.scheme_.append(n)\r\n",
        "        for p in onlyenforceif:\r\n",
        "            self.scheme_.append(p)\r\n",
        "        for n in onlyenforceifnot:\r\n",
        "            self.scheme_.append(n)\r\n",
        "        self.combinations_ = self.GetAllCombinations_(positive,negative,onlyenforceif,onlyenforceifnot)\r\n",
        "        # self.Print()\r\n",
        "\r\n",
        "    def GetAllCombinations_(self,positive,negative,onlyenforceif,onlyenforceifnot):        \r\n",
        "        result = []\r\n",
        "        for length in range(len(self.scheme_)+1):\r\n",
        "            for subset in itertools.combinations(self.scheme_,length):                \r\n",
        "                enforce = True\r\n",
        "                for x in onlyenforceif:\r\n",
        "                    if not x.IsInList(subset):\r\n",
        "                        enforce = False\r\n",
        "                for x in onlyenforceifnot:\r\n",
        "                    if x.IsInList(subset):\r\n",
        "                        enforce = False            \r\n",
        "                valid = True\r\n",
        "                for x in positive:\r\n",
        "                    if not x.IsInList(subset):\r\n",
        "                        valid = False\r\n",
        "                for x in negative:\r\n",
        "                    if x.IsInList(subset):\r\n",
        "                        valid = False\r\n",
        "                if not enforce or valid:\r\n",
        "                    result.append(subset)\r\n",
        "        return result"
      ],
      "execution_count": null,
      "outputs": []
    },
    {
      "cell_type": "code",
      "metadata": {
        "id": "n3_lMghvr-EW"
      },
      "source": [
        "class Model():\r\n",
        "    def __init__(self):\r\n",
        "        self.variables_ = []\r\n",
        "        self.constraints_ = []\r\n",
        "        \r\n",
        "    def AddBoolVariable(self, name):\r\n",
        "        v = BoolVariable(name)\r\n",
        "        self.variables_.append(v)\r\n",
        "        return v\r\n",
        "        \r\n",
        "    def AddOrConstraint(self, positive, negative):\r\n",
        "        c = OrConstraint(positive,negative)\r\n",
        "        self.constraints_.append(c)\r\n",
        "\r\n",
        "    def AddAndConstraint(self, positive, negative, onlyenforceif,onlyenforceifnot):\r\n",
        "        c = AndConstraint(positive,negative,onlyenforceif,onlyenforceifnot)\r\n",
        "        self.constraints_.append(c)\r\n",
        "\r\n",
        "    def PrintDomains(self):\r\n",
        "        for x in self.variables_:\r\n",
        "            print(x.GetName(), x.GetValues())\r\n",
        "        print()\r\n",
        "\r\n",
        "    def Revise_(self,x,c):\r\n",
        "        change = False\r\n",
        "        for v in x.GetValues():\r\n",
        "            if not c.CheckConstraint(x,v):\r\n",
        "                x.RemoveFromDomain(v)\r\n",
        "                change = True\r\n",
        "        return change\r\n",
        "\r\n",
        "    def AC3(self):\r\n",
        "        Q = []\r\n",
        "        for x in self.variables_:\r\n",
        "            for c in self.constraints_:\r\n",
        "                if x.IsInList(c.scheme_):\r\n",
        "                    Q.append((x,c))\r\n",
        "        while len(Q)>0:\r\n",
        "            (x,c) = Q[0]\r\n",
        "            Q.remove(Q[0])\r\n",
        "            if (self.Revise_(x,c)):\r\n",
        "                if len(x.GetValues())==0:\r\n",
        "                    return False\r\n",
        "                else:\r\n",
        "                    for c2 in self.constraints_:\r\n",
        "                        if (c2 != c) and (x.IsInList(c2.scheme_)):\r\n",
        "                            for x2 in c2.scheme_:\r\n",
        "                                if not (x2,c2) in Q:\r\n",
        "                                    Q.append((x2,c2))\r\n",
        "        return True\r\n",
        "  \r\n",
        "    def Search(self):\r\n",
        "        if self.AC3():\r\n",
        "            solution = True\r\n",
        "            for x in self.variables_:\r\n",
        "                if len(x.GetValues())>1:\r\n",
        "                    solution = False\r\n",
        "                    m1 = copy.deepcopy(self)\r\n",
        "                    m1.AddOrConstraint([x],[])\r\n",
        "                    m1.Search()\r\n",
        "                    m2 = copy.deepcopy(self)\r\n",
        "                    m2.AddOrConstraint([],[x])\r\n",
        "                    m2.Search()\r\n",
        "                    break\r\n",
        "            if solution:\r\n",
        "                self.PrintDomains()"
      ],
      "execution_count": null,
      "outputs": []
    },
    {
      "cell_type": "code",
      "metadata": {
        "id": "scktrzhisCKf"
      },
      "source": [
        "model = Model()"
      ],
      "execution_count": null,
      "outputs": []
    },
    {
      "cell_type": "code",
      "metadata": {
        "id": "Ioz8R667sE3-"
      },
      "source": [
        "N = 4"
      ],
      "execution_count": null,
      "outputs": []
    },
    {
      "cell_type": "code",
      "metadata": {
        "id": "A3_Gx-JjsGdh"
      },
      "source": [
        "board = {}"
      ],
      "execution_count": null,
      "outputs": []
    },
    {
      "cell_type": "code",
      "metadata": {
        "id": "y0ef8W32sI3e"
      },
      "source": [
        "for i in range(N):\r\n",
        "        for j in range(N):\r\n",
        "            board[(i,j)] = model.AddBoolVariable(str(i)+\"_\"+str(j))"
      ],
      "execution_count": null,
      "outputs": []
    },
    {
      "cell_type": "code",
      "metadata": {
        "id": "ZLzcqOGAsNdQ"
      },
      "source": [
        "for i in range(N):\r\n",
        "        for j in range(N):\r\n",
        "            horizontal = [board[(i,k)] \r\n",
        "                          for k in range(N) if k!=j]\r\n",
        "            vertical = [board[(k,j)] \r\n",
        "                        for k in range(N) if k!=i]\r\n",
        "            diagonal1 = [board[(i+k,j+k)] \r\n",
        "                          for k in range(-N,N) \r\n",
        "                          if k!=0 and i+k>=0 and j+k>=0 and i+k<N and j+k<N]\r\n",
        "            diagonal2 = [board[(i+k,j-k)] \r\n",
        "                          for k in range(-N,N) \r\n",
        "                          if k!=0 and i+k>=0 and j-k>=0 and i+k<N and j-k<N]\r\n",
        "            threat = horizontal + vertical + diagonal1 + diagonal2\r\n",
        "            model.AddAndConstraint([],threat,[board[(i,j)]],[])"
      ],
      "execution_count": null,
      "outputs": []
    },
    {
      "cell_type": "code",
      "metadata": {
        "id": "maC5z2K9sPxv"
      },
      "source": [
        "for i in range(N):\r\n",
        "        horizontal = [board[(i,k)] \r\n",
        "                      for k in range(N)]\r\n",
        "        vertical = [board[(k,j)] \r\n",
        "                    for k in range(N)]\r\n",
        "        model.AddOrConstraint(horizontal,[])\r\n",
        "        model.AddOrConstraint(vertical,[])"
      ],
      "execution_count": null,
      "outputs": []
    },
    {
      "cell_type": "code",
      "metadata": {
        "id": "Xdm19U46sTUf",
        "colab": {
          "base_uri": "https://localhost:8080/"
        },
        "outputId": "a4436839-8529-4b49-a59b-b2b1e4e0315b"
      },
      "source": [
        "model.Search()"
      ],
      "execution_count": null,
      "outputs": [
        {
          "output_type": "stream",
          "text": [
            "0_0 [False]\n",
            "0_1 [True]\n",
            "0_2 [False]\n",
            "0_3 [False]\n",
            "1_0 [False]\n",
            "1_1 [False]\n",
            "1_2 [False]\n",
            "1_3 [True]\n",
            "2_0 [True]\n",
            "2_1 [False]\n",
            "2_2 [False]\n",
            "2_3 [False]\n",
            "3_0 [False]\n",
            "3_1 [False]\n",
            "3_2 [True]\n",
            "3_3 [False]\n",
            "\n",
            "0_0 [False]\n",
            "0_1 [False]\n",
            "0_2 [True]\n",
            "0_3 [False]\n",
            "1_0 [True]\n",
            "1_1 [False]\n",
            "1_2 [False]\n",
            "1_3 [False]\n",
            "2_0 [False]\n",
            "2_1 [False]\n",
            "2_2 [False]\n",
            "2_3 [True]\n",
            "3_0 [False]\n",
            "3_1 [True]\n",
            "3_2 [False]\n",
            "3_3 [False]\n",
            "\n"
          ],
          "name": "stdout"
        }
      ]
    }
  ]
}