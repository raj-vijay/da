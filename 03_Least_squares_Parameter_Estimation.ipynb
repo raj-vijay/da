{
  "nbformat": 4,
  "nbformat_minor": 0,
  "metadata": {
    "colab": {
      "name": "03. Least-squares Parameter Estimation.ipynb",
      "provenance": [],
      "collapsed_sections": [],
      "authorship_tag": "ABX9TyO+fWzLn4qrYFe9OJO8nxya",
      "include_colab_link": true
    },
    "kernelspec": {
      "name": "python3",
      "display_name": "Python 3"
    }
  },
  "cells": [
    {
      "cell_type": "markdown",
      "metadata": {
        "id": "view-in-github",
        "colab_type": "text"
      },
      "source": [
        "<a href=\"https://colab.research.google.com/github/raj-vijay/da/blob/master/03_Least_squares_Parameter_Estimation.ipynb\" target=\"_parent\"><img src=\"https://colab.research.google.com/assets/colab-badge.svg\" alt=\"Open In Colab\"/></a>"
      ]
    },
    {
      "cell_type": "markdown",
      "metadata": {
        "id": "xkaxeE0QrjTr"
      },
      "source": [
        "##Least-squares parameter estimation"
      ]
    },
    {
      "cell_type": "markdown",
      "metadata": {
        "id": "JPYIXiWZrm6M"
      },
      "source": [
        "<p align = 'justify'>The goal is to find the position of a mobile device given the distance measurements between the device and the surrounding cell towers. This technology is for instance being used by emergency services to pinpoint the exact location of a caller. In a more general formulation with slightly different constraints it is also the underlying approach for satellite-based positioning systems, such as GPS.</p>"
      ]
    },
    {
      "cell_type": "markdown",
      "metadata": {
        "id": "T6OAM8xs-Urz"
      },
      "source": [
        "![alt text](https://raw.githubusercontent.com/raj-vijay/da/master/images/RadioTower.png)"
      ]
    },
    {
      "cell_type": "markdown",
      "metadata": {
        "id": "DTh5THamsFEU"
      },
      "source": [
        "**Task 1**"
      ]
    },
    {
      "cell_type": "markdown",
      "metadata": {
        "id": "5ENv_386sMsy"
      },
      "source": [
        "Let the locations of the three visible cell towers be given by: \n",
        "\n",
        "$$l1 = \\begin{pmatrix} 5 \\\\ 25 \\end{pmatrix}$$\n",
        "\n",
        "$$l2 = \\begin{pmatrix} 32 \\\\ 22 \\end{pmatrix}$$\n",
        "\n",
        "$$l3 = \\begin{pmatrix} 29 \\\\ 5 \\end{pmatrix}$$\n",
        "\n",
        "<p align = 'justify'>As a first guess, we can assume that the mobile device is somewhere in the middle between the three. Write a Python program that calculates the initial guess for the position 𝑥0 to be the average between the three cell tower positions.</p>"
      ]
    },
    {
      "cell_type": "code",
      "metadata": {
        "id": "5kQvqxFDrgpn"
      },
      "source": [
        "import numpy as np\n",
        "import matplotlib.pyplot as plt"
      ],
      "execution_count": null,
      "outputs": []
    },
    {
      "cell_type": "code",
      "metadata": {
        "id": "Q-rP0dOY7MEY"
      },
      "source": [
        "towers = np.array([[5,25],[32,22],[29,5]])"
      ],
      "execution_count": null,
      "outputs": []
    },
    {
      "cell_type": "markdown",
      "metadata": {
        "id": "8EtP55JWuQoO"
      },
      "source": [
        "**Task 2**"
      ]
    },
    {
      "cell_type": "markdown",
      "metadata": {
        "id": "HcmcNN55uV0g"
      },
      "source": [
        "The linearized constraint is defined as 𝐴𝑥 + 𝐵𝑦 = 𝑐 for this problem with the coefficient matrices:\n",
        "\n",
        "$$𝐴 = 2 \\begin{pmatrix} 𝑥_0^𝑇−𝑙_1^𝑇 \\\\ 𝑥_0^𝑇−𝑙_2^𝑇 \\\\ 𝑥_0^𝑇−𝑙_3^𝑇 \\end{pmatrix}$$\n",
        "\n",
        "$$\n",
        "B=-I_3\n",
        "$$\n",
        "\n",
        "$$c = \\begin{pmatrix} 𝑥_0^𝑇𝑥_0−𝑙_1^𝑇𝑙_1 \\\\ 𝑥_0^𝑇𝑥_0−𝑙_2^𝑇𝑙_2 \\\\ 𝑥_0^𝑇𝑥_0−𝑙_3^𝑇𝑙_3 \\end{pmatrix}$$\n",
        "\n",
        "\n",
        "Write a Python program that calculates these matrices."
      ]
    },
    {
      "cell_type": "code",
      "metadata": {
        "id": "_IuUlDPpuJLh"
      },
      "source": [
        "def estimate_position(towers, distances, initial_position):\n",
        "    l = towers\n",
        "    y_ = distances**2\n",
        "    x0 = initial_position\n",
        "    \n",
        "    A = 2*(x0-l)\n",
        "    B = -np.eye(len(y_)) \n",
        "    c = sum(x0*x0)-np.sum(l*l,axis=1)             \n",
        "    \n",
        "        \n",
        "    M11 = np.zeros((2,2))\n",
        "    M12 = np.zeros((2,len(y_)))\n",
        "    M13 = A.transpose()\n",
        "    M1 = np.append(np.append(M11,M12,axis=1),M13,axis=1)\n",
        "    b1 = np.zeros((2,1))\n",
        "    \n",
        "    M21 = np.zeros((len(y_),2))\n",
        "    M22 = 2*np.eye(len(y_))\n",
        "    M23 = B.transpose()\n",
        "    M2 = np.append(np.append(M21,M22,axis=1),M23,axis=1)\n",
        "    b2 = 2*y_\n",
        "    \n",
        "    M31 = A\n",
        "    M32 = B\n",
        "    M33 = np.zeros((len(y_),len(y_)))\n",
        "    M3 = np.append(np.append(M31,M32,axis=1),M33,axis=1)    \n",
        "    b3 = c\n",
        "    \n",
        "    M = np.append(np.append(M1, M2, axis=0), M3, axis=0)    \n",
        "    b = np.append(np.append(b1,b2),b3)\n",
        "\n",
        "    est = np.linalg.solve(M,b)\n",
        "    \n",
        "    x = est[0:2]\n",
        "\n",
        "    return x"
      ],
      "execution_count": null,
      "outputs": []
    },
    {
      "cell_type": "markdown",
      "metadata": {
        "id": "dT-7Ob5iw5WX"
      },
      "source": [
        "**Task 3**"
      ]
    },
    {
      "cell_type": "markdown",
      "metadata": {
        "id": "KBLJ5WDJw7mL"
      },
      "source": [
        "Now we consider the measured distances between the cell towers and the mobile device:\n",
        "\n",
        "$$\\bar{d}_1=17$$\n",
        "$$\\bar{d}_2=13$$\n",
        "$$\\bar{d}_3=15$$\n",
        "\n",
        "The linearized constraints were based on squared distances ($\\bar{y}_i=\\bar{d}_i^2$) and we determined that the minimum of $(y - \\bar{y})^2$ under these constraints could be obtained by solving the linear equation system.\n",
        "\n",
        "$$𝜆^𝑇𝐴=0$$\n",
        "\n",
        "$$2(𝑦−𝑦̅)+𝜆^𝑇𝐵=0$$\n",
        "\n",
        "$$𝐴𝑥+𝐵𝑦−𝑐=0$$"
      ]
    },
    {
      "cell_type": "markdown",
      "metadata": {
        "id": "sXETNCjw0IrB"
      },
      "source": [
        "Write a Python program that builds this 3 sets of linear equations:\n",
        "\n",
        "(1) Create the 2x8-matrix $𝑀_1=\\begin{bmatrix} 0_{2×2} & 0_{2×3} & 𝐴^𝑇\\end{bmatrix}$ and the vector $𝑏_1 = \\begin{pmatrix} 0 \\\\ 0 \\end{pmatrix}$ corresponding to the first linear constraint\n",
        "\n",
        "(2) Create the 3x8-matrix $𝑀_1 = \\begin{bmatrix} 0_{3×2} & 2𝐼_3 & 𝐵^𝑇\\end{bmatrix}$ and the vector $𝑏_2 = 2\\bar{y}$ corresponding to the second linear constraint\n",
        "\n",
        "(3) Create the 3x8-matrix $𝑀_1 = \\begin{bmatrix} 𝐴 & 𝐵 & 0_{3×3}\\end{bmatrix}$ and the vector $𝑏_3 = 𝑐$ corresponding to the third linear constraint"
      ]
    },
    {
      "cell_type": "markdown",
      "metadata": {
        "id": "TUVex44c5Kwp"
      },
      "source": [
        "**Task 4**"
      ]
    },
    {
      "cell_type": "markdown",
      "metadata": {
        "id": "xocxKkfY5VyB"
      },
      "source": [
        "<p align = 'justify'>Having constructed all the elements, we now want to solve the equation system to obtain the position of the mobile device from the distance measurements. To do this we need to stack the equation systems derived in the previous task and obtain a single 8x8 linear equation system as follows:</p>\n",
        "\n",
        "\n",
        "$$\\begin{bmatrix} M_1 \\\\ M_2 \\\\ M_3 \\end{bmatrix} \\begin{pmatrix}x \\\\ y \\\\ z\\end{pmatrix} = \\begin{pmatrix}b_1 \\\\ b_2 \\\\ b_3\\end{pmatrix}$$"
      ]
    },
    {
      "cell_type": "markdown",
      "metadata": {
        "id": "xAOzadJP6Vo2"
      },
      "source": [
        "Write a Python program that solves this linear equation system and computes the 8 vector \n",
        "\n",
        "$$ s = \\begin{pmatrix}𝑥 \\\\ 𝑦 \\\\ 𝜆 \\end{pmatrix}$$\n",
        "\n",
        "\n",
        "<p align = 'justify'>Finally, extract the position of the mobile device 𝑥 from the solution vector. If you followed all the steps above correctly you should obtain the actual position to be</p> \n",
        "\n",
        "$$ 𝑥=\\begin{pmatrix} 20 \\\\ 17\\end{pmatrix}$$\n",
        "\n",
        "\n",
        "(Hint: use https://docs.scipy.org/doc/numpy/reference/generated/numpy.linalg.solve.html to solve the linear equation system)"
      ]
    },
    {
      "cell_type": "code",
      "metadata": {
        "id": "eviR2Pfh7ZDd"
      },
      "source": [
        "true_position = np.array([20,17])\n",
        "sigma = 1.0"
      ],
      "execution_count": null,
      "outputs": []
    },
    {
      "cell_type": "code",
      "metadata": {
        "id": "JPOBkwEl7chS"
      },
      "source": [
        "true_distances = np.sqrt(np.sum(((towers - true_position)**2),axis=1))\n",
        "distances = true_distances + sigma*np.random.randn(len(true_distances))"
      ],
      "execution_count": null,
      "outputs": []
    },
    {
      "cell_type": "code",
      "metadata": {
        "id": "y4wbwHGV7eBX",
        "outputId": "26cf6e28-90b4-4a9f-cc3e-e4c7cfc87fcd",
        "colab": {
          "base_uri": "https://localhost:8080/",
          "height": 102
        }
      },
      "source": [
        "print(towers)\n",
        "print(true_position)\n",
        "print(true_distances)\n",
        "#print(distances)"
      ],
      "execution_count": null,
      "outputs": [
        {
          "output_type": "stream",
          "text": [
            "[[ 5 25]\n",
            " [32 22]\n",
            " [29  5]]\n",
            "[20 17]\n",
            "[17. 13. 15.]\n"
          ],
          "name": "stdout"
        }
      ]
    },
    {
      "cell_type": "code",
      "metadata": {
        "id": "mPkLqX3l7kdK",
        "outputId": "cca73b8f-e475-4b5e-f4f0-c446bbec4499",
        "colab": {
          "base_uri": "https://localhost:8080/",
          "height": 282
        }
      },
      "source": [
        "plt.close('all')\n",
        "plt.figure()\n",
        "plt.scatter(towers[:,0], towers[:,1], color='r')\n",
        "plt.scatter(true_position[0], true_position[1], color='b')"
      ],
      "execution_count": null,
      "outputs": [
        {
          "output_type": "execute_result",
          "data": {
            "text/plain": [
              "<matplotlib.collections.PathCollection at 0x7f1dc8896208>"
            ]
          },
          "metadata": {
            "tags": []
          },
          "execution_count": 11
        },
        {
          "output_type": "display_data",
          "data": {
            "image/png": "[encoded data removed]",
            "text/plain": [
              "<Figure size 432x288 with 1 Axes>"
            ]
          },
          "metadata": {
            "tags": [],
            "needs_background": "light"
          }
        }
      ]
    },
    {
      "cell_type": "code",
      "metadata": {
        "id": "9V_N7EV67sUt",
        "outputId": "8179a287-c0b9-455b-d618-49cbb9f4de3a",
        "colab": {
          "base_uri": "https://localhost:8080/",
          "height": 282
        }
      },
      "source": [
        "initial_position = np.mean(towers,axis=0)    \n",
        "plt.scatter(initial_position[0], initial_position[1], color='y')"
      ],
      "execution_count": null,
      "outputs": [
        {
          "output_type": "execute_result",
          "data": {
            "text/plain": [
              "<matplotlib.collections.PathCollection at 0x7f1dc83e4cf8>"
            ]
          },
          "metadata": {
            "tags": []
          },
          "execution_count": 12
        },
        {
          "output_type": "display_data",
          "data": {
            "image/png": "[encoded data removed]",
            "text/plain": [
              "<Figure size 432x288 with 1 Axes>"
            ]
          },
          "metadata": {
            "tags": [],
            "needs_background": "light"
          }
        }
      ]
    },
    {
      "cell_type": "code",
      "metadata": {
        "id": "gIa8yuZ07xbH",
        "outputId": "2d329987-fbbc-4385-cb13-8b23cdf4f76b",
        "colab": {
          "base_uri": "https://localhost:8080/",
          "height": 435
        }
      },
      "source": [
        "position = initial_position\n",
        "for i in range(10):\n",
        "  x = estimate_position(towers, distances, position)\n",
        "  plt.scatter(x[0], x[1], color='g')\n",
        "  print(sum((x-position)**2))\n",
        "  position = x"
      ],
      "execution_count": null,
      "outputs": [
        {
          "output_type": "stream",
          "text": [
            "4.9424055639816995\n",
            "0.09473438389772659\n",
            "0.0014413609700279506\n",
            "2.3308368699789857e-05\n",
            "3.8002703318578893e-07\n",
            "6.2024280733519025e-09\n",
            "1.0124295242712766e-10\n",
            "1.6526273139720722e-12\n",
            "2.6976520512088057e-14\n",
            "4.4034875049096294e-16\n"
          ],
          "name": "stdout"
        },
        {
          "output_type": "display_data",
          "data": {
            "image/png": "[encoded data removed]",
            "text/plain": [
              "<Figure size 432x288 with 1 Axes>"
            ]
          },
          "metadata": {
            "tags": [],
            "needs_background": "light"
          }
        }
      ]
    },
    {
      "cell_type": "code",
      "metadata": {
        "id": "bPrXzLXX8MuO",
        "outputId": "b522f9a5-5394-443c-9421-5eb999537a7a",
        "colab": {
          "base_uri": "https://localhost:8080/",
          "height": 282
        }
      },
      "source": [
        "plt.scatter(position[0], position[1], color='c')"
      ],
      "execution_count": null,
      "outputs": [
        {
          "output_type": "execute_result",
          "data": {
            "text/plain": [
              "<matplotlib.collections.PathCollection at 0x7f1dc81e32b0>"
            ]
          },
          "metadata": {
            "tags": []
          },
          "execution_count": 16
        },
        {
          "output_type": "display_data",
          "data": {
            "image/png": "[encoded data removed]",
            "text/plain": [
              "<Figure size 432x288 with 1 Axes>"
            ]
          },
          "metadata": {
            "tags": [],
            "needs_background": "light"
          }
        }
      ]
    },
    {
      "cell_type": "code",
      "metadata": {
        "id": "-oAu5b068Pl2",
        "outputId": "e33b8a8f-9214-4963-e456-2fee46918b92",
        "colab": {
          "base_uri": "https://localhost:8080/",
          "height": 34
        }
      },
      "source": [
        "print(position)"
      ],
      "execution_count": null,
      "outputs": [
        {
          "output_type": "stream",
          "text": [
            "[20.08952659 15.62542397]\n"
          ],
          "name": "stdout"
        }
      ]
    }
  ]
}