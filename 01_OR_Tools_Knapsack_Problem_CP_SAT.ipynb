{
  "nbformat": 4,
  "nbformat_minor": 0,
  "metadata": {
    "colab": {
      "name": "01. OR Tools Knapsack Problem - CP SAT.ipynb",
      "provenance": [],
      "authorship_tag": "ABX9TyORYv4EYF1pHKWMYtV60udN",
      "include_colab_link": true
    },
    "kernelspec": {
      "name": "python3",
      "display_name": "Python 3"
    }
  },
  "cells": [
    {
      "cell_type": "markdown",
      "metadata": {
        "id": "view-in-github",
        "colab_type": "text"
      },
      "source": [
        "<a href=\"https://colab.research.google.com/github/raj-vijay/da/blob/master/01_OR_Tools_Knapsack_Problem_CP_SAT.ipynb\" target=\"_parent\"><img src=\"https://colab.research.google.com/assets/colab-badge.svg\" alt=\"Open In Colab\"/></a>"
      ]
    },
    {
      "cell_type": "markdown",
      "metadata": {
        "id": "_ShJojTV9Wzz"
      },
      "source": [
        "###**Optimization problems**\n",
        "\n",
        "<p align = 'justify'>The goal of optimization is to find the best solution to a problem out of a large set of possible solutions.\n",
        "\n",
        "A typical optimization problem is the logistics shipping problem. \n",
        "\n",
        "A shipping company delivers packages to its customers using a fleet of trucks, and the company must assign packages to trucks, and then choose a route for each truck to deliver its packages. Each possible assignment of packages and routes has a cost, based on the total travel distance for the trucks, and possibly other factors as well. The problem is to choose the assignments of packages and routes that has the least cost.\n",
        "\n",
        "The problem has the following elements:\n",
        "\n",
        "- **Objective** \n",
        "\n",
        "The quantity to be optimized. For the above problem, the objective is to minimize cost. To set up an optimization problem, the value of the objective for any possible solution should be defined, and is called the objective function. \n",
        "\n",
        "An optimal solution is one for which the value of the objective function is the best. (i.e. a maximum or a minimum.)\n",
        "\n",
        "- **Constraints** \n",
        "\n",
        "The constrains are restrictions on the set of possible solutions, based on the specific requirements of the problem. For e.g., if the shipping company can't assign packages above a given weight to trucks, this would impose a constraint on the solutions. \n",
        "\n",
        "A feasible solution is one that satisfies all the given constraints for the problem, without necessarily being optimal.\n",
        "\n",
        "The first step in solving an optimization problem is identifying the objective and constraints.</p>"
      ]
    },
    {
      "cell_type": "markdown",
      "metadata": {
        "id": "YiKmhHwLNSSR"
      },
      "source": [
        "##**Packing**##\n",
        "\n",
        "<p align = 'justify'>The goal of packing problems is to find the best way to pack a set of items of given sizes into containers with fixed capacities. A typical application is loading boxes onto delivery trucks efficiently. \n",
        "\n",
        "It is often not possible to pack all the items, due to the capacity constraints. \n",
        "\n",
        "The problem is to find a subset of the items with maximum total size that will fit in the containers.\n",
        "\n",
        "There are many types of packing problems. Two of the most important are knapsack problems and bin packing.</p>"
      ]
    },
    {
      "cell_type": "markdown",
      "metadata": {
        "id": "4RTR4KmINz8k"
      },
      "source": [
        "##**Knapsack problems**\n",
        "\n",
        "In the simple knapsack problem, there is a single container (a knapsack). The items have values as well as sizes, and the goal is to pack a subset of the items that has maximum total value.\n",
        "\n",
        "For the special case in which value is equal to size, the goal is to maximize the total size of the packed items.\n",
        "\n",
        "There are also more general versions of the knapsack problem. \n",
        "\n",
        "- **Multidimensional knapsack problem**\n",
        "\n",
        "Here, the items have more than one physical attribute such as weight and volume, and the knapsack has a capacity for each quantity. Here, the term dimension does not necessarily refer to the usual spatial dimensions of height, length, and width. However, some problems might involve spatial dimensions, for example, finding the optimal way to pack rectangular boxes into a rectangular storage bin.\n",
        "\n",
        "- **Multiple knapsack problem**\n",
        "\n",
        "Here, there are multiple knapsacks, and the goal is to maximize the total value of the packed items in all knapsacks.\n",
        "\n",
        "Note that you can have a multidimensional problem with a single knapsack, or a multiple knapsack problem with just one dimension."
      ]
    },
    {
      "cell_type": "code",
      "metadata": {
        "id": "lQtr9S7qOt8A",
        "outputId": "113d82fb-533c-4d42-dc6d-7e290ebaa681",
        "colab": {
          "base_uri": "https://localhost:8080/",
          "height": 173
        }
      },
      "source": [
        "!pip install ortools"
      ],
      "execution_count": null,
      "outputs": [
        {
          "output_type": "stream",
          "text": [
            "Collecting ortools\n",
            "\u001b[?25l  Downloading https://files.pythonhosted.org/packages/6c/e9/57ee68e41e02b00836dbe61a4f9679c953623168dcca3a84e2cd16a3e9b2/ortools-7.8.7959-cp36-cp36m-manylinux1_x86_64.whl (32.7MB)\n",
            "\u001b[K     |████████████████████████████████| 32.7MB 115kB/s \n",
            "\u001b[?25hRequirement already satisfied: protobuf>=3.12.2 in /usr/local/lib/python3.6/dist-packages (from ortools) (3.12.4)\n",
            "Requirement already satisfied: six>=1.10 in /usr/local/lib/python3.6/dist-packages (from ortools) (1.15.0)\n",
            "Requirement already satisfied: setuptools in /usr/local/lib/python3.6/dist-packages (from protobuf>=3.12.2->ortools) (50.3.0)\n",
            "Installing collected packages: ortools\n",
            "Successfully installed ortools-7.8.7959\n"
          ],
          "name": "stdout"
        }
      ]
    },
    {
      "cell_type": "markdown",
      "metadata": {
        "id": "qY01TRRjO-BJ"
      },
      "source": [
        "##**Lab Exercise**\n",
        "\n",
        "In Lecture 2 we looked at the knapsack problem. The goal is to find the most valuable combination of items to pack without exceeding the weight capacity limit. \n",
        "\n",
        "Consider the following specific instance:\n",
        "- The capacity limit of the knapsack is 15kg\n",
        "- There are 5 items as depicted in the picture to the right\n",
        "- Each of the 5 items has a weight and a value printed on the box in the picture to the right\n",
        "\n",
        "\n",
        "(Remark: The Google OR Tools contain an optimised Knapsack solver for this problem domain. Please do NOT use this dedicated solver for the exercise but use the generic CP-SAT solver instead)"
      ]
    },
    {
      "cell_type": "code",
      "metadata": {
        "id": "ErTOEyu89RwE"
      },
      "source": [
        "from ortools.sat.python import cp_model"
      ],
      "execution_count": null,
      "outputs": []
    },
    {
      "cell_type": "code",
      "metadata": {
        "id": "ZQM0eXuvO4-k"
      },
      "source": [
        "def BinpackingProblemSat():\n",
        "  \"\"\"Solves a bin-packing problem using the CP-SAT solver.\"\"\"\n",
        "  # Data.\n",
        "  bin_capacity = 100\n",
        "  slack_capacity = 20\n",
        "  num_bins = 5\n",
        "  all_bins = range(num_bins)\n",
        "  \n",
        "  items = [(20, 6), (15, 6), (30, 4), (45, 3)]\n",
        "  num_items = len(items)\n",
        "  all_items = range(num_items)\n",
        "\n",
        "  # Model.\n",
        "  model = cp_model.CpModel()\n",
        "\n",
        "  # Main variables.\n",
        "  x = {}\n",
        "  for i in all_items:\n",
        "    num_copies = items[i][1]\n",
        "    for b in all_bins:\n",
        "      x[(i, b)] = model.NewIntVar(0, num_copies, 'x_%i_%i' % (i, b))\n",
        "\n",
        "  # Load variables.\n",
        "  load = [model.NewIntVar(0, bin_capacity, 'load_%i' % b) for b in all_bins]\n",
        "  \n",
        "  # Slack variables.\n",
        "  slacks = [model.NewBoolVar('slack_%i' % b) for b in all_bins]\n",
        "  \n",
        "  # Links load and x.\n",
        "  for b in all_bins:\n",
        "    model.Add(load[b] == sum(x[(i, b)] * items[i][0] for i in all_items))\n",
        "    \n",
        "    # Place all items.\n",
        "    for i in all_items:\n",
        "      model.Add(sum(x[(i, b)] for b in all_bins) == items[i][1])\n",
        "      \n",
        "      # Links load and slack through an equivalence relation.\n",
        "      safe_capacity = bin_capacity - slack_capacity\n",
        "      for b in all_bins:\n",
        "        # slack[b] => load[b] <= safe_capacity.\n",
        "        model.Add(load[b] <= safe_capacity).OnlyEnforceIf(slacks[b])\n",
        "        # not(slack[b]) => load[b] > safe_capacity.\n",
        "        model.Add(load[b] > safe_capacity).OnlyEnforceIf(slacks[b].Not())\n",
        "\n",
        "  # Maximize sum of slacks.\n",
        "  model.Maximize(sum(slacks))\n",
        "\n",
        "  # Solves and prints out the solution.\n",
        "  solver = cp_model.CpSolver()\n",
        "  status = solver.Solve(model)\n",
        "  print('Solve status: %s' % solver.StatusName(status))\n",
        "  if status == cp_model.OPTIMAL:\n",
        "    print('Optimal objective value: %i' % solver.ObjectiveValue())\n",
        "    print('Statistics')\n",
        "    print('  - conflicts : %i' % solver.NumConflicts())\n",
        "    print('  - branches  : %i' % solver.NumBranches())\n",
        "    print('  - wall time : %f s' % solver.WallTime())"
      ],
      "execution_count": null,
      "outputs": []
    },
    {
      "cell_type": "code",
      "metadata": {
        "id": "jU-7fyIZPqRd",
        "outputId": "f55ca37b-9d85-4bc7-c3d6-555bbfdf4781",
        "colab": {
          "base_uri": "https://localhost:8080/",
          "height": 119
        }
      },
      "source": [
        "BinpackingProblemSat()"
      ],
      "execution_count": null,
      "outputs": [
        {
          "output_type": "stream",
          "text": [
            "Solve status: OPTIMAL\n",
            "Optimal objective value: 1\n",
            "Statistics\n",
            "  - conflicts : 63\n",
            "  - branches  : 98\n",
            "  - wall time : 0.021351 s\n"
          ],
          "name": "stdout"
        }
      ]
    }
  ]
}