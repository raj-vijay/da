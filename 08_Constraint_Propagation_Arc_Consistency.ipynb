{
  "nbformat": 4,
  "nbformat_minor": 0,
  "metadata": {
    "colab": {
      "name": "08. Constraint Propagation – Arc Consistency.ipynb",
      "provenance": [],
      "collapsed_sections": [],
      "authorship_tag": "ABX9TyMpCH97RLRNUXdFQVLBhTRU",
      "include_colab_link": true
    },
    "kernelspec": {
      "name": "python3",
      "display_name": "Python 3"
    }
  },
  "cells": [
    {
      "cell_type": "markdown",
      "metadata": {
        "id": "view-in-github",
        "colab_type": "text"
      },
      "source": [
        "<a href=\"https://colab.research.google.com/github/raj-vijay/da/blob/master/08_Constraint_Propagation_Arc_Consistency.ipynb\" target=\"_parent\"><img src=\"https://colab.research.google.com/assets/colab-badge.svg\" alt=\"Open In Colab\"/></a>"
      ]
    },
    {
      "cell_type": "markdown",
      "metadata": {
        "id": "OFIZqLp-ezND"
      },
      "source": [
        "**Constraint Propagation – AC3**"
      ]
    },
    {
      "cell_type": "markdown",
      "metadata": {
        "id": "CzlnqB8_fl-T"
      },
      "source": [
        "**BACKGROUND**\n",
        "\n",
        "<p align = 'justify'>The AC3 algorithms allows to tighten the domains of a constraint network so that it is arc consistent. In this exercise you will implement a representation for Boolean Satisfiability problems and the AC3 algorithm to enforce arc consistency.</p>"
      ]
    },
    {
      "cell_type": "markdown",
      "metadata": {
        "id": "GraJnUVcgDPJ"
      },
      "source": [
        "**Task 1**\n",
        "\n",
        "<p align = 'justify'>Write a Python class that models a Boolean variable for a constraint satisfaction problem. The class should store a name as string and the current domain with two Booleans indicating if True is part of the domain and if False is part of the domain.</p>\n",
        "\n",
        "<p align = 'justify'>The domain 𝐷 = {𝑇, 𝐹} should be represented by [True,True], the domain 𝐷 = {𝑇} should be represented by [False,True], the domain 𝐷 = {𝐹} should be represented by [True,False] and the domain 𝐷 = {} should be represented by [False,False].</p>\n",
        "\n",
        "<p align = 'justify'>The class should have a method GetValues() for getting all possible values from the domain as well as a function RemoveFromDomain(v)for removing a value from the domain.</p>"
      ]
    },
    {
      "cell_type": "code",
      "metadata": {
        "id": "4luGPUU-cFd6"
      },
      "source": [
        "import itertools"
      ],
      "execution_count": null,
      "outputs": []
    },
    {
      "cell_type": "code",
      "metadata": {
        "id": "BLc693PlgbxJ"
      },
      "source": [
        "class BoolVariable():\n",
        "    def __init__(self,name):\n",
        "        self.name_ = name\n",
        "        self.domain_ = [True,True]\n",
        "\n",
        "    def RemoveFromDomain(self,v):\n",
        "        if v:\n",
        "            self.domain_[1]=False\n",
        "        else:\n",
        "            self.domain_[0]=False            \n",
        "    \n",
        "    def GetName(self):\n",
        "        return self.name_\n",
        "    \n",
        "    def IsInList(self, list):\n",
        "        for l in list:\n",
        "            if self.name_ == l.name_:\n",
        "                return True\n",
        "        return False\n",
        "    \n",
        "    def GetValues(self):\n",
        "        values = []\n",
        "        if self.domain_[0]:\n",
        "            values.append(False)\n",
        "        if self.domain_[1]:\n",
        "            values.append(True)\n",
        "        return values"
      ],
      "execution_count": null,
      "outputs": []
    },
    {
      "cell_type": "markdown",
      "metadata": {
        "id": "XETwFvKMgyri"
      },
      "source": [
        "**Task 2**\n",
        "\n",
        "<p align = 'justify'>Write a Python class that models a Boolean disjunction constraint. It should be created by passing a list of positive and negative variables to the constructor. The class should store the scheme, i.e. the variables it operates on, and all combinations of assignments that are valid\n",
        "for the constraint as list of lists of positive variables (hint: use the function itertools.combinations).</p>\n",
        "\n",
        "<p align = 'justify'>For example the constraint with positive variables [x1, x2] and negative variable [v3] should represent the constraint 𝑥1 ∨ 𝑥2 ∨ ¬𝑥3 and will result in a scheme [x1,x2,x3]. The list of valid assignments is then [[],[x1], [x2], [x1,x2],[x1,x3], [x2,x3], [x1,x1,x3]].</p> \n",
        "\n",
        "<p align = 'justify'>The class should also contain a method CheckConstraint(x,v) for checking if a variable assignment 𝑥𝑖 = 𝑣 could satisfy the constraint taking into account the domains of all other variables in the scheme of the constraint.</p>\n",
        "\n",
        "<p align = 'justify'>For example, checking (x1,True) should result in True, unless True has been removed from the domain of x1 by calling the function x1.RemoveFromDomain(True).</p>"
      ]
    },
    {
      "cell_type": "code",
      "metadata": {
        "id": "1SVHkp_Bgfjy"
      },
      "source": [
        "class Constraint():\n",
        "    def __init__(self, positive, negative):\n",
        "        self.scheme_ = []\n",
        "        for p in positive:\n",
        "            self.scheme_.append(p)\n",
        "        for n in negative:\n",
        "            self.scheme_.append(n)\n",
        "        self.combinations_ = self.GetAllCombinations_(positive,negative)\n",
        "#        self.Print()\n",
        "\n",
        "    def GetAllCombinations_(self,positive,negative):        \n",
        "        result = []\n",
        "        for length in range(len(self.scheme_)+1):\n",
        "            for subset in itertools.combinations(self.scheme_,length):\n",
        "                valid = False\n",
        "                for x in self.scheme_:\n",
        "                    if x.IsInList(subset):\n",
        "                        if x.IsInList(positive):\n",
        "                            valid = True\n",
        "                            break\n",
        "                    else: \n",
        "                        if x.IsInList(negative):\n",
        "                            valid = True\n",
        "                            break\n",
        "                if valid:\n",
        "                    result.append(subset)\n",
        "        return result\n",
        "\n",
        "    def CheckConstraint(self, x,v):\n",
        "        result = False            \n",
        "        for t in self.combinations_:                                \n",
        "            is_valid = True\n",
        "            for s in self.scheme_:\n",
        "                values = s.GetValues()\n",
        "                if len(values)==1:\n",
        "                    if not ((values[0] and s.IsInList(t)) or ((not values[0]) and (not s.IsInList(t)))):\n",
        "                        is_valid = False\n",
        "            if is_valid:\n",
        "                if (v and (x.IsInList(t)) or ((not v) and (not x.IsInList(t)))):                                        \n",
        "                    result = True\n",
        "                    break\n",
        "        return result        \n",
        "\n",
        "    def Print(self):\n",
        "        for t in self.combinations_:\n",
        "            for x in self.scheme_:\n",
        "                if (x.IsInList(t)):\n",
        "                    print(x.name_, end=\",\")\n",
        "                else:\n",
        "                    print(\"not\",x.name_, end=\",\")\n",
        "            print()\n",
        "        print()"
      ],
      "execution_count": null,
      "outputs": []
    },
    {
      "cell_type": "markdown",
      "metadata": {
        "id": "xVFtsrXEhWs7"
      },
      "source": [
        "**Task 3**\n",
        "\n",
        "<p align = 'justify'>Implement a model class to which you can add variables as defined in task 1 and constraints as defined in task 2. Implement the AC3 algorithm to make all domains of all variables in the model arc consistent.\n",
        "(For the purpose of using this code in a future lab exercise, please make sure that you determine equality of variables based on their names instead of their object references, i.e. for two variables x1 and x2, do not compare them with x1==x2, but rather compare them with x1.name==x2.name)</p>"
      ]
    },
    {
      "cell_type": "code",
      "metadata": {
        "id": "Ttvy0pf4gl8h"
      },
      "source": [
        "class Model():\n",
        "    def __init__(self):\n",
        "        self.variables_ = []\n",
        "        self.constraints_ = []\n",
        "        \n",
        "    def AddBoolVariable(self, name):\n",
        "        v = BoolVariable(name)\n",
        "        self.variables_.append(v)\n",
        "        return v\n",
        "        \n",
        "    def AddOrConstraint(self, positive, negative):\n",
        "        c = Constraint(positive,negative)\n",
        "        self.constraints_.append(c)\n",
        "\n",
        "    def PrintDomains(self):\n",
        "        for x in self.variables_:\n",
        "            print(x.GetName(), x.GetValues())\n",
        "        print()\n",
        "\n",
        "    def Revise_(self,x,c):\n",
        "        change = False\n",
        "        for v in x.GetValues():\n",
        "            if not c.CheckConstraint(x,v):\n",
        "                x.RemoveFromDomain(v)\n",
        "                change = True\n",
        "        return change\n",
        "\n",
        "    def AC3(self):\n",
        "        Q = []\n",
        "        for x in self.variables_:\n",
        "            for c in self.constraints_:\n",
        "                if x.IsInList(c.scheme_):\n",
        "                    Q.append((x,c))\n",
        "        while len(Q)>0:\n",
        "            (x,c) = Q[0]\n",
        "            Q.remove(Q[0])\n",
        "            if (self.Revise_(x,c)):\n",
        "                if len(x.GetValues())==0:\n",
        "                    return False\n",
        "                else:\n",
        "                    for c2 in self.constraints_:\n",
        "                        if (c2 != c) and (x.IsInList(c2.scheme_)):\n",
        "                            for x2 in c2.scheme_:\n",
        "                                if not (x2,c2) in Q:\n",
        "                                    Q.append((x2,c2))\n",
        "        return True"
      ],
      "execution_count": null,
      "outputs": []
    },
    {
      "cell_type": "code",
      "metadata": {
        "id": "4EEOptAQhgoi"
      },
      "source": [
        "model = Model()"
      ],
      "execution_count": null,
      "outputs": []
    },
    {
      "cell_type": "code",
      "metadata": {
        "id": "haMuP7tWhphh"
      },
      "source": [
        "x1 = model.AddBoolVariable(\"x1\")\n",
        "x2 = model.AddBoolVariable(\"x2\")\n",
        "x3 = model.AddBoolVariable(\"x3\")\n",
        "x4 = model.AddBoolVariable(\"x4\")"
      ],
      "execution_count": null,
      "outputs": []
    },
    {
      "cell_type": "code",
      "metadata": {
        "id": "CQWuSnVdhtOx"
      },
      "source": [
        "model.AddOrConstraint([x1,x2],[])\n",
        "model.AddOrConstraint([],[x2])\n",
        "model.AddOrConstraint([x3],[x1])\n",
        "model.AddOrConstraint([x4],[x2])"
      ],
      "execution_count": null,
      "outputs": []
    },
    {
      "cell_type": "code",
      "metadata": {
        "colab": {
          "base_uri": "https://localhost:8080/"
        },
        "id": "agOEDT4Ghwuj",
        "outputId": "7b999e40-2b1b-4048-ac8e-aba4e5285e59"
      },
      "source": [
        "model.PrintDomains()    \n",
        "model.AC3()\n",
        "model.PrintDomains()"
      ],
      "execution_count": null,
      "outputs": [
        {
          "output_type": "stream",
          "text": [
            "x1 [False, True]\n",
            "x2 [False, True]\n",
            "x3 [False, True]\n",
            "x4 [False, True]\n",
            "\n",
            "x1 [True]\n",
            "x2 [False]\n",
            "x3 [True]\n",
            "x4 [False, True]\n",
            "\n"
          ],
          "name": "stdout"
        }
      ]
    }
  ]
}