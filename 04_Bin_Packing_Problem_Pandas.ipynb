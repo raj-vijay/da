{
  "nbformat": 4,
  "nbformat_minor": 0,
  "metadata": {
    "colab": {
      "name": "04. Bin Packing Problem - Pandas.ipynb",
      "provenance": [],
      "collapsed_sections": [],
      "authorship_tag": "ABX9TyONQDpT4gKPGyxPy2cy+tUQ",
      "include_colab_link": true
    },
    "kernelspec": {
      "name": "python3",
      "display_name": "Python 3"
    }
  },
  "cells": [
    {
      "cell_type": "markdown",
      "metadata": {
        "id": "view-in-github",
        "colab_type": "text"
      },
      "source": [
        "<a href=\"https://colab.research.google.com/github/raj-vijay/da/blob/master/04_Bin_Packing_Problem_Pandas.ipynb\" target=\"_parent\"><img src=\"https://colab.research.google.com/assets/colab-badge.svg\" alt=\"Open In Colab\"/></a>"
      ]
    },
    {
      "cell_type": "markdown",
      "metadata": {
        "id": "ziuk6_yweK8o"
      },
      "source": [
        "##Bin Packing / Pandas"
      ]
    },
    {
      "cell_type": "markdown",
      "metadata": {
        "id": "WP4ClAyEeQDt"
      },
      "source": [
        "**BACKGROUND**\n",
        "\n",
        "<p text-align = 'justify'>The bin packing problem is a direct generalisation of the knapsack problem. Instead of only one knapsack the bin packing problem tries to fit items into multiple bins of a given capacity while maximising the value. More formally, we are given 𝑛 items of size 𝑤1, … , 𝑤𝑛 and value 𝑣1, … , 𝑣𝑛that we want to distribute across 𝑚 bins of capacity 𝑀1, … , 𝑀𝑚.</p> \n",
        "\n",
        "<p text-align = 'justify'>If we use the Boolean decision variables 𝑥11, … , 𝑥𝑖𝑗, … , 𝑥𝑛𝑚 to indicate if an item 𝑖 is to be packed in bin 𝑗 we can formulate this problem as maximising the total value.</p>"
      ]
    },
    {
      "cell_type": "markdown",
      "metadata": {
        "id": "C8-p0vp5fa_J"
      },
      "source": [
        "<p align = 'center'>$V=\\sum_{i, j} x_{i, j}v_{i}$</p>"
      ]
    },
    {
      "cell_type": "markdown",
      "metadata": {
        "id": "znj-bop2gj2s"
      },
      "source": [
        "Subject to the constraints that each item is only in one box:\n",
        "\n",
        "<p align = 'center'>$\\sum_{j} x_{i, j} \\leq 1$\n",
        "\n",
        "$i = 1, ..., n$</p>\n",
        "\n"
      ]
    },
    {
      "cell_type": "markdown",
      "metadata": {
        "id": "KCyrEksmheVE"
      },
      "source": [
        "And that the capacity of each box is not exceeded: \n",
        "\n",
        "<p align = 'center'>$\\sum_{i} x_{i, j}w_{i} \\leq M_{j}$\n",
        "\n",
        "$j = 1, ..., m$</p>\n"
      ]
    },
    {
      "cell_type": "code",
      "metadata": {
        "id": "fwkF5K5_eELH",
        "outputId": "7dc7e40a-63f7-4546-8ac3-52afa4cadbe7",
        "colab": {
          "base_uri": "https://localhost:8080/",
          "height": 289
        }
      },
      "source": [
        "# Get the bin packing data\n",
        "!wget https://github.com/raj-vijay/da/raw/master/files/bin_packing_data.xlsx"
      ],
      "execution_count": null,
      "outputs": [
        {
          "output_type": "stream",
          "text": [
            "--2020-10-23 13:18:57--  https://github.com/raj-vijay/da/raw/master/files/bin_packing_data.xlsx\n",
            "Resolving github.com (github.com)... 140.82.114.3\n",
            "Connecting to github.com (github.com)|140.82.114.3|:443... connected.\n",
            "HTTP request sent, awaiting response... 302 Found\n",
            "Location: https://raw.githubusercontent.com/raj-vijay/da/master/files/bin_packing_data.xlsx [following]\n",
            "--2020-10-23 13:18:57--  https://raw.githubusercontent.com/raj-vijay/da/master/files/bin_packing_data.xlsx\n",
            "Resolving raw.githubusercontent.com (raw.githubusercontent.com)... 151.101.0.133, 151.101.64.133, 151.101.128.133, ...\n",
            "Connecting to raw.githubusercontent.com (raw.githubusercontent.com)|151.101.0.133|:443... connected.\n",
            "HTTP request sent, awaiting response... 200 OK\n",
            "Length: 10885 (11K) [application/octet-stream]\n",
            "Saving to: ‘bin_packing_data.xlsx’\n",
            "\n",
            "bin_packing_data.xl 100%[===================>]  10.63K  --.-KB/s    in 0s      \n",
            "\n",
            "2020-10-23 13:18:57 (100 MB/s) - ‘bin_packing_data.xlsx’ saved [10885/10885]\n",
            "\n"
          ],
          "name": "stdout"
        }
      ]
    },
    {
      "cell_type": "code",
      "metadata": {
        "id": "178rKvDPjl96",
        "outputId": "05776359-b318-46b9-d861-43aabb974b21",
        "colab": {
          "base_uri": "https://localhost:8080/",
          "height": 343
        }
      },
      "source": [
        "!pip install ortools"
      ],
      "execution_count": null,
      "outputs": [
        {
          "output_type": "stream",
          "text": [
            "Collecting ortools\n",
            "\u001b[?25l  Downloading https://files.pythonhosted.org/packages/be/06/70475cc058328217739dff257a85fe2e90ecdbc1068d8fe52ad6f30fc53b/ortools-8.0.8283-cp36-cp36m-manylinux1_x86_64.whl (13.7MB)\n",
            "\u001b[K     |████████████████████████████████| 13.7MB 261kB/s \n",
            "\u001b[?25hCollecting protobuf>=3.13.0\n",
            "\u001b[?25l  Downloading https://files.pythonhosted.org/packages/30/79/510974552cebff2ba04038544799450defe75e96ea5f1675dbf72cc8744f/protobuf-3.13.0-cp36-cp36m-manylinux1_x86_64.whl (1.3MB)\n",
            "\u001b[K     |████████████████████████████████| 1.3MB 37.0MB/s \n",
            "\u001b[?25hRequirement already satisfied: six>=1.10 in /usr/local/lib/python3.6/dist-packages (from ortools) (1.15.0)\n",
            "Requirement already satisfied: setuptools in /usr/local/lib/python3.6/dist-packages (from protobuf>=3.13.0->ortools) (50.3.0)\n",
            "Installing collected packages: protobuf, ortools\n",
            "  Found existing installation: protobuf 3.12.4\n",
            "    Uninstalling protobuf-3.12.4:\n",
            "      Successfully uninstalled protobuf-3.12.4\n",
            "Successfully installed ortools-8.0.8283 protobuf-3.13.0\n"
          ],
          "name": "stdout"
        },
        {
          "output_type": "display_data",
          "data": {
            "application/vnd.colab-display-data+json": {
              "pip_warning": {
                "packages": [
                  "google"
                ]
              }
            }
          },
          "metadata": {
            "tags": []
          }
        }
      ]
    },
    {
      "cell_type": "code",
      "metadata": {
        "id": "AVKCIpvOjflr"
      },
      "source": [
        "#Import Google OR tools libraries\n",
        "from ortools.sat.python import cp_model\n",
        "import pandas as pd"
      ],
      "execution_count": null,
      "outputs": []
    },
    {
      "cell_type": "markdown",
      "metadata": {
        "id": "K55TcxKQjS5a"
      },
      "source": [
        "The Excel-file “bin_packing_data.xlsx” contains the input data, both a list of available containers as well as a list of items that need to be packed. \n",
        "\n",
        "Load the excel file and extract all relevant information."
      ]
    },
    {
      "cell_type": "code",
      "metadata": {
        "id": "poDFfvfSjbrS"
      },
      "source": [
        "data = pd.read_excel(\"/content/bin_packing_data.xlsx\", sheet_name=None)"
      ],
      "execution_count": null,
      "outputs": []
    },
    {
      "cell_type": "code",
      "metadata": {
        "id": "HIV-BVrynOcS"
      },
      "source": [
        "containers = data[\"Containers\"]\n",
        "items = data[\"Items\"]"
      ],
      "execution_count": null,
      "outputs": []
    },
    {
      "cell_type": "markdown",
      "metadata": {
        "id": "6aDDLf52nXle"
      },
      "source": [
        "Create a CP-SAT model and add all necessary decision variables to that model."
      ]
    },
    {
      "cell_type": "code",
      "metadata": {
        "id": "ORKlKhn6nT7p"
      },
      "source": [
        "model = cp_model.CpModel()"
      ],
      "execution_count": null,
      "outputs": []
    },
    {
      "cell_type": "markdown",
      "metadata": {
        "id": "n7QjJ2MInbh5"
      },
      "source": [
        "Add the constraints to the model to ensure that each item can only go into one container."
      ]
    },
    {
      "cell_type": "code",
      "metadata": {
        "id": "6DhTqmrJnei7"
      },
      "source": [
        "# one Boolean decision variable for every combination of item/bin\n",
        "x = {}\n",
        "for i in range(len(items)):\n",
        "  for j in range(len(containers)):\n",
        "    x[(i,j)] = model.NewBoolVar(\"x_%s_%s\"%(i,j))"
      ],
      "execution_count": null,
      "outputs": []
    },
    {
      "cell_type": "markdown",
      "metadata": {
        "id": "aA7FOg74nqFJ"
      },
      "source": [
        "Add the constraints to the model to ensure that the container capacities are not exceeded."
      ]
    },
    {
      "cell_type": "code",
      "metadata": {
        "id": "jbJfrkIXnq-I"
      },
      "source": [
        "# every item is at most in one bin\n",
        "for i in range(len(items)):\n",
        "  model.Add(sum([x[(i,j)] for j in range(len(containers))])<=1)"
      ],
      "execution_count": null,
      "outputs": []
    },
    {
      "cell_type": "markdown",
      "metadata": {
        "id": "J1wzir0loHQU"
      },
      "source": [
        "Add the constraints to the model to ensure that the container capacities are not exceeded."
      ]
    },
    {
      "cell_type": "code",
      "metadata": {
        "id": "e_R9d65xn53B"
      },
      "source": [
        "# every bin's capacity is not exceeded\n",
        "for j in range(len(containers)):\n",
        "  model.Add(sum([items.iloc[i][\"Weight\"]*x[(i,j)] for i in range(len(items))])<=containers.iloc[j][\"Maximum capacity\"])"
      ],
      "execution_count": null,
      "outputs": []
    },
    {
      "cell_type": "markdown",
      "metadata": {
        "id": "NaNohBDyoKBi"
      },
      "source": [
        "Add the objective function to the model and solve it using the CP-SAT solver."
      ]
    },
    {
      "cell_type": "code",
      "metadata": {
        "id": "MvK19n8hoAFC"
      },
      "source": [
        "model.Maximize(sum([items.iloc[i][\"Value\"]*x[(i,j)] \n",
        "                        for i in range(len(items)) for j in range(len(containers))]))"
      ],
      "execution_count": null,
      "outputs": []
    },
    {
      "cell_type": "code",
      "metadata": {
        "id": "X3cYM8cyoBRK"
      },
      "source": [
        "solver = cp_model.CpSolver()\n",
        "status = solver.Solve(model)   "
      ],
      "execution_count": null,
      "outputs": []
    },
    {
      "cell_type": "code",
      "metadata": {
        "id": "7FShkNeUoSCJ",
        "outputId": "335611b2-8799-410a-f9de-740bf4eb8823",
        "colab": {
          "base_uri": "https://localhost:8080/",
          "height": 34
        }
      },
      "source": [
        "print(solver.StatusName(status))"
      ],
      "execution_count": null,
      "outputs": [
        {
          "output_type": "stream",
          "text": [
            "OPTIMAL\n"
          ],
          "name": "stdout"
        }
      ]
    },
    {
      "cell_type": "markdown",
      "metadata": {
        "id": "zqNpsqOeoWZs"
      },
      "source": [
        "How much value can be transported, both absolute and in percent of the total value of items?"
      ]
    },
    {
      "cell_type": "code",
      "metadata": {
        "id": "8zML4WyNocDN"
      },
      "source": [
        "result_items = pd.DataFrame(index=items.index, columns=[\"Id\", \"Weight\", \"Value\", \"Container\"])"
      ],
      "execution_count": null,
      "outputs": []
    },
    {
      "cell_type": "code",
      "metadata": {
        "id": "A4ppCLJSoeUG"
      },
      "source": [
        "for i in range(len(items)):\n",
        "  result_items[\"Id\"][i] = items.iloc[i][\"Id\"]\n",
        "  result_items[\"Weight\"][i] = items.iloc[i][\"Weight\"]\n",
        "  result_items[\"Value\"][i] = items.iloc[i][\"Value\"]\n",
        "  for j in range(len(containers)):\n",
        "    if solver.Value(x[(i,j)]):\n",
        "      result_items[\"Container\"][i] = containers.iloc[j][\"Id\"]\n",
        "      break"
      ],
      "execution_count": null,
      "outputs": []
    },
    {
      "cell_type": "code",
      "metadata": {
        "id": "Z_RUS5gEomnR"
      },
      "source": [
        "result_containers = pd.DataFrame(index=containers.index, columns=[\"Id\", \"Maximum capacity\", \n",
        "                                                                      \"Weight (total)\", \n",
        "                                                                      \"Weight (percentage)\", \n",
        "                                                                      \"Value (total)\", \n",
        "                                                                      \"Value (percentage)\"])"
      ],
      "execution_count": null,
      "outputs": []
    },
    {
      "cell_type": "code",
      "metadata": {
        "id": "5eid5kDKonur"
      },
      "source": [
        "for j in range(len(containers)):\n",
        "  result_containers[\"Id\"][j] = containers.iloc[j][\"Id\"]\n",
        "  result_containers[\"Maximum capacity\"][j] = containers.iloc[j][\"Maximum capacity\"]\n",
        "  weight = 0\n",
        "  value = 0\n",
        "  for i in range(len(items)):\n",
        "    if solver.Value(x[(i,j)]):\n",
        "      weight += items.iloc[i][\"Weight\"]\n",
        "      value += items.iloc[i][\"Value\"]\n",
        "  result_containers[\"Weight (total)\"][j] = weight\n",
        "  result_containers[\"Weight (percentage)\"][j] = 100*weight/containers.iloc[j][\"Maximum capacity\"]\n",
        "  result_containers[\"Weight (total)\"][j] = weight\n",
        "  result_containers[\"Value (total)\"][j] = value\n",
        "  result_containers[\"Value (percentage)\"][j] = 100*value/solver.BestObjectiveBound()"
      ],
      "execution_count": null,
      "outputs": []
    },
    {
      "cell_type": "code",
      "metadata": {
        "id": "_Jh7oF9OpKxF"
      },
      "source": [
        "writer = pd.ExcelWriter(\"Results.xlsx\")\n",
        "result_items.to_excel(writer, sheet_name=\"Items\", index=False)\n",
        "result_containers.to_excel(writer, sheet_name=\"Containers\", index=False)\n",
        "writer.close()"
      ],
      "execution_count": null,
      "outputs": []
    },
    {
      "cell_type": "code",
      "metadata": {
        "id": "PjviXcoip8Xz",
        "outputId": "eb84d784-8c70-4b11-f454-9d10e0946b4c",
        "colab": {
          "base_uri": "https://localhost:8080/",
          "height": 68
        }
      },
      "source": [
        "print(\"Total item value\", sum(items[\"Value\"]))\n",
        "print(\"Total packed value\", solver.BestObjectiveBound())\n",
        "print(\"Percentage\", round(100*solver.BestObjectiveBound()/sum(items[\"Value\"]),2))"
      ],
      "execution_count": null,
      "outputs": [
        {
          "output_type": "stream",
          "text": [
            "Total item value 4420\n",
            "Total packed value 2500.0\n",
            "Percentage 56.56\n"
          ],
          "name": "stdout"
        }
      ]
    }
  ]
}